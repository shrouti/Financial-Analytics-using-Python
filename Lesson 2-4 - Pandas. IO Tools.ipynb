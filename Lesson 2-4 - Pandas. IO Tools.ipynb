{
 "cells": [
  {
   "cell_type": "markdown",
   "metadata": {},
   "source": [
    "# IO Tools (Text and CSV, EXCEL, HDF5, ...)"
   ]
  },
  {
   "cell_type": "markdown",
   "metadata": {
    "heading_collapsed": true
   },
   "source": [
    "## Introduction"
   ]
  },
  {
   "cell_type": "markdown",
   "metadata": {
    "hidden": true
   },
   "source": [
    "\n",
    "\n",
    "[Pandas online reference](http://pandas.pydata.org/pandas-docs/stable/io.html#)"
   ]
  },
  {
   "cell_type": "markdown",
   "metadata": {
    "collapsed": true,
    "hidden": true
   },
   "source": [
    "Data Source: [Quandl Data](https://www.quandl.com/data/YAHOO/INDEX_DJI-DJI-Dow-Jones-Industrial-Average)"
   ]
  },
  {
   "cell_type": "code",
   "execution_count": 1,
   "metadata": {
    "hidden": true
   },
   "outputs": [
    {
     "name": "stdout",
     "output_type": "stream",
     "text": [
      "Pandas version : 0.22.0\n",
      "Numpy version : 1.14.3\n"
     ]
    }
   ],
   "source": [
    "import pandas as pd\n",
    "import numpy as np\n",
    "print(\"Pandas version : {}\".format(pd.__version__))\n",
    "print(\"Numpy version : {}\".format(np.__version__))"
   ]
  },
  {
   "cell_type": "code",
   "execution_count": 3,
   "metadata": {
    "hidden": true
   },
   "outputs": [
    {
     "name": "stdout",
     "output_type": "stream",
     "text": [
      "total 2624\r\n",
      "-rw-r--r--@ 1 anthonyn  staff   56879 Jun  9 14:33 AAPL.csv\r\n",
      "-rw-r--r--@ 1 anthonyn  staff   51933 Jun  9 14:33 AMZN.csv\r\n",
      "-rw-r--r--@ 1 anthonyn  staff  209471 Jun 19 15:20 DJI_Change.csv\r\n",
      "-rw-r--r--@ 1 anthonyn  staff   37502 Jun 10 18:35 F-F_Benchmark_Factors_Monthly.txt\r\n",
      "-rw-r--r--@ 1 anthonyn  staff   52772 Jun  9 14:33 GLD.csv\r\n",
      "-rw-r--r--@ 1 anthonyn  staff   57297 Jun  9 14:33 SPY.csv\r\n",
      "-rw-r--r--@ 1 anthonyn  staff   96768 Jun 13 17:45 WHOILNYH.xls\r\n",
      "-rw-r--r--@ 1 anthonyn  staff  655023 May  6  2016 YAHOO-INDEX_DJI.csv\r\n",
      "-rw-r--r--@ 1 anthonyn  staff   62738 Jun 13 16:38 ^GSPC.csv\r\n",
      "-rw-r--r--@ 1 anthonyn  staff    9440 Jun 13 17:36 heating-oil-prices-historical-chart-data.csv\r\n",
      "-rw-r--r--@ 1 anthonyn  staff    5689 Jun 19 15:20 moderate.xlsx\r\n",
      "-rw-r--r--@ 1 anthonyn  staff    7336 Jun 19 18:04 res.h5\r\n",
      "-rw-r--r--@ 1 anthonyn  staff   10125 May  6  2016 sample_excel.xlsx\r\n",
      "-rw-r--r--@ 1 anthonyn  staff      64 Jun 18 16:06 test_file.csv\r\n",
      "-rw-r--r--@ 1 anthonyn  staff     319 Jun  3 14:48 wine.csv\r\n"
     ]
    }
   ],
   "source": [
    "ll data"
   ]
  },
  {
   "cell_type": "markdown",
   "metadata": {
    "heading_collapsed": true
   },
   "source": [
    "## CSV"
   ]
  },
  {
   "cell_type": "code",
   "execution_count": 4,
   "metadata": {
    "hidden": true
   },
   "outputs": [
    {
     "data": {
      "text/html": [
       "<div>\n",
       "<style scoped>\n",
       "    .dataframe tbody tr th:only-of-type {\n",
       "        vertical-align: middle;\n",
       "    }\n",
       "\n",
       "    .dataframe tbody tr th {\n",
       "        vertical-align: top;\n",
       "    }\n",
       "\n",
       "    .dataframe thead th {\n",
       "        text-align: right;\n",
       "    }\n",
       "</style>\n",
       "<table border=\"1\" class=\"dataframe\">\n",
       "  <thead>\n",
       "    <tr style=\"text-align: right;\">\n",
       "      <th></th>\n",
       "      <th>Date</th>\n",
       "      <th>Open</th>\n",
       "      <th>High</th>\n",
       "      <th>Low</th>\n",
       "      <th>Close</th>\n",
       "      <th>Volume</th>\n",
       "      <th>Adjusted Close</th>\n",
       "    </tr>\n",
       "  </thead>\n",
       "  <tbody>\n",
       "    <tr>\n",
       "      <th>0</th>\n",
       "      <td>2016-05-05</td>\n",
       "      <td>17664.480469</td>\n",
       "      <td>17736.109375</td>\n",
       "      <td>17615.820312</td>\n",
       "      <td>17660.710938</td>\n",
       "      <td>81530000.0</td>\n",
       "      <td>17660.710938</td>\n",
       "    </tr>\n",
       "    <tr>\n",
       "      <th>1</th>\n",
       "      <td>2016-05-04</td>\n",
       "      <td>17735.019531</td>\n",
       "      <td>17738.060547</td>\n",
       "      <td>17609.009766</td>\n",
       "      <td>17651.259766</td>\n",
       "      <td>95020000.0</td>\n",
       "      <td>17651.259766</td>\n",
       "    </tr>\n",
       "    <tr>\n",
       "      <th>2</th>\n",
       "      <td>2016-05-03</td>\n",
       "      <td>17870.750000</td>\n",
       "      <td>17870.750000</td>\n",
       "      <td>17670.880859</td>\n",
       "      <td>17750.910156</td>\n",
       "      <td>97060000.0</td>\n",
       "      <td>17750.910156</td>\n",
       "    </tr>\n",
       "    <tr>\n",
       "      <th>3</th>\n",
       "      <td>2016-05-02</td>\n",
       "      <td>17783.779297</td>\n",
       "      <td>17912.349609</td>\n",
       "      <td>17773.710938</td>\n",
       "      <td>17891.160156</td>\n",
       "      <td>80100000.0</td>\n",
       "      <td>17891.160156</td>\n",
       "    </tr>\n",
       "    <tr>\n",
       "      <th>4</th>\n",
       "      <td>2016-04-29</td>\n",
       "      <td>17813.089844</td>\n",
       "      <td>17814.830078</td>\n",
       "      <td>17651.980469</td>\n",
       "      <td>17773.640625</td>\n",
       "      <td>136670000.0</td>\n",
       "      <td>17773.640625</td>\n",
       "    </tr>\n",
       "  </tbody>\n",
       "</table>\n",
       "</div>"
      ],
      "text/plain": [
       "         Date          Open          High           Low         Close  \\\n",
       "0  2016-05-05  17664.480469  17736.109375  17615.820312  17660.710938   \n",
       "1  2016-05-04  17735.019531  17738.060547  17609.009766  17651.259766   \n",
       "2  2016-05-03  17870.750000  17870.750000  17670.880859  17750.910156   \n",
       "3  2016-05-02  17783.779297  17912.349609  17773.710938  17891.160156   \n",
       "4  2016-04-29  17813.089844  17814.830078  17651.980469  17773.640625   \n",
       "\n",
       "        Volume  Adjusted Close  \n",
       "0   81530000.0    17660.710938  \n",
       "1   95020000.0    17651.259766  \n",
       "2   97060000.0    17750.910156  \n",
       "3   80100000.0    17891.160156  \n",
       "4  136670000.0    17773.640625  "
      ]
     },
     "execution_count": 4,
     "metadata": {},
     "output_type": "execute_result"
    }
   ],
   "source": [
    "pd.read_csv(\"data/YAHOO-INDEX_DJI.csv\").head()"
   ]
  },
  {
   "cell_type": "code",
   "execution_count": 8,
   "metadata": {
    "hidden": true
   },
   "outputs": [
    {
     "data": {
      "text/html": [
       "<div>\n",
       "<style scoped>\n",
       "    .dataframe tbody tr th:only-of-type {\n",
       "        vertical-align: middle;\n",
       "    }\n",
       "\n",
       "    .dataframe tbody tr th {\n",
       "        vertical-align: top;\n",
       "    }\n",
       "\n",
       "    .dataframe thead th {\n",
       "        text-align: right;\n",
       "    }\n",
       "</style>\n",
       "<table border=\"1\" class=\"dataframe\">\n",
       "  <thead>\n",
       "    <tr style=\"text-align: right;\">\n",
       "      <th></th>\n",
       "      <th>Open</th>\n",
       "      <th>High</th>\n",
       "      <th>Low</th>\n",
       "      <th>Close</th>\n",
       "      <th>Volume</th>\n",
       "      <th>Adjusted Close</th>\n",
       "    </tr>\n",
       "    <tr>\n",
       "      <th>Date</th>\n",
       "      <th></th>\n",
       "      <th></th>\n",
       "      <th></th>\n",
       "      <th></th>\n",
       "      <th></th>\n",
       "      <th></th>\n",
       "    </tr>\n",
       "  </thead>\n",
       "  <tbody>\n",
       "    <tr>\n",
       "      <th>2016-05-05</th>\n",
       "      <td>17664.480469</td>\n",
       "      <td>17736.109375</td>\n",
       "      <td>17615.820312</td>\n",
       "      <td>17660.710938</td>\n",
       "      <td>81530000.0</td>\n",
       "      <td>17660.710938</td>\n",
       "    </tr>\n",
       "    <tr>\n",
       "      <th>2016-05-04</th>\n",
       "      <td>17735.019531</td>\n",
       "      <td>17738.060547</td>\n",
       "      <td>17609.009766</td>\n",
       "      <td>17651.259766</td>\n",
       "      <td>95020000.0</td>\n",
       "      <td>17651.259766</td>\n",
       "    </tr>\n",
       "    <tr>\n",
       "      <th>2016-05-03</th>\n",
       "      <td>17870.750000</td>\n",
       "      <td>17870.750000</td>\n",
       "      <td>17670.880859</td>\n",
       "      <td>17750.910156</td>\n",
       "      <td>97060000.0</td>\n",
       "      <td>17750.910156</td>\n",
       "    </tr>\n",
       "    <tr>\n",
       "      <th>2016-05-02</th>\n",
       "      <td>17783.779297</td>\n",
       "      <td>17912.349609</td>\n",
       "      <td>17773.710938</td>\n",
       "      <td>17891.160156</td>\n",
       "      <td>80100000.0</td>\n",
       "      <td>17891.160156</td>\n",
       "    </tr>\n",
       "    <tr>\n",
       "      <th>2016-04-29</th>\n",
       "      <td>17813.089844</td>\n",
       "      <td>17814.830078</td>\n",
       "      <td>17651.980469</td>\n",
       "      <td>17773.640625</td>\n",
       "      <td>136670000.0</td>\n",
       "      <td>17773.640625</td>\n",
       "    </tr>\n",
       "  </tbody>\n",
       "</table>\n",
       "</div>"
      ],
      "text/plain": [
       "                    Open          High           Low         Close  \\\n",
       "Date                                                                 \n",
       "2016-05-05  17664.480469  17736.109375  17615.820312  17660.710938   \n",
       "2016-05-04  17735.019531  17738.060547  17609.009766  17651.259766   \n",
       "2016-05-03  17870.750000  17870.750000  17670.880859  17750.910156   \n",
       "2016-05-02  17783.779297  17912.349609  17773.710938  17891.160156   \n",
       "2016-04-29  17813.089844  17814.830078  17651.980469  17773.640625   \n",
       "\n",
       "                 Volume  Adjusted Close  \n",
       "Date                                     \n",
       "2016-05-05   81530000.0    17660.710938  \n",
       "2016-05-04   95020000.0    17651.259766  \n",
       "2016-05-03   97060000.0    17750.910156  \n",
       "2016-05-02   80100000.0    17891.160156  \n",
       "2016-04-29  136670000.0    17773.640625  "
      ]
     },
     "execution_count": 8,
     "metadata": {},
     "output_type": "execute_result"
    }
   ],
   "source": [
    "pd.read_csv(\"data/YAHOO-INDEX_DJI.csv\", index_col=0).head()"
   ]
  },
  {
   "cell_type": "code",
   "execution_count": 6,
   "metadata": {
    "hidden": true
   },
   "outputs": [
    {
     "data": {
      "text/html": [
       "<div>\n",
       "<style scoped>\n",
       "    .dataframe tbody tr th:only-of-type {\n",
       "        vertical-align: middle;\n",
       "    }\n",
       "\n",
       "    .dataframe tbody tr th {\n",
       "        vertical-align: top;\n",
       "    }\n",
       "\n",
       "    .dataframe thead th {\n",
       "        text-align: right;\n",
       "    }\n",
       "</style>\n",
       "<table border=\"1\" class=\"dataframe\">\n",
       "  <thead>\n",
       "    <tr style=\"text-align: right;\">\n",
       "      <th></th>\n",
       "      <th>Open</th>\n",
       "      <th>High</th>\n",
       "      <th>Low</th>\n",
       "      <th>Close</th>\n",
       "      <th>Volume</th>\n",
       "      <th>Adjusted Close</th>\n",
       "    </tr>\n",
       "    <tr>\n",
       "      <th>Date</th>\n",
       "      <th></th>\n",
       "      <th></th>\n",
       "      <th></th>\n",
       "      <th></th>\n",
       "      <th></th>\n",
       "      <th></th>\n",
       "    </tr>\n",
       "  </thead>\n",
       "  <tbody>\n",
       "    <tr>\n",
       "      <th>2016-05-05</th>\n",
       "      <td>17664.480469</td>\n",
       "      <td>17736.109375</td>\n",
       "      <td>17615.820312</td>\n",
       "      <td>17660.710938</td>\n",
       "      <td>81530000.0</td>\n",
       "      <td>17660.710938</td>\n",
       "    </tr>\n",
       "    <tr>\n",
       "      <th>2016-05-04</th>\n",
       "      <td>17735.019531</td>\n",
       "      <td>17738.060547</td>\n",
       "      <td>17609.009766</td>\n",
       "      <td>17651.259766</td>\n",
       "      <td>95020000.0</td>\n",
       "      <td>17651.259766</td>\n",
       "    </tr>\n",
       "    <tr>\n",
       "      <th>2016-05-03</th>\n",
       "      <td>17870.750000</td>\n",
       "      <td>17870.750000</td>\n",
       "      <td>17670.880859</td>\n",
       "      <td>17750.910156</td>\n",
       "      <td>97060000.0</td>\n",
       "      <td>17750.910156</td>\n",
       "    </tr>\n",
       "    <tr>\n",
       "      <th>2016-05-02</th>\n",
       "      <td>17783.779297</td>\n",
       "      <td>17912.349609</td>\n",
       "      <td>17773.710938</td>\n",
       "      <td>17891.160156</td>\n",
       "      <td>80100000.0</td>\n",
       "      <td>17891.160156</td>\n",
       "    </tr>\n",
       "    <tr>\n",
       "      <th>2016-04-29</th>\n",
       "      <td>17813.089844</td>\n",
       "      <td>17814.830078</td>\n",
       "      <td>17651.980469</td>\n",
       "      <td>17773.640625</td>\n",
       "      <td>136670000.0</td>\n",
       "      <td>17773.640625</td>\n",
       "    </tr>\n",
       "  </tbody>\n",
       "</table>\n",
       "</div>"
      ],
      "text/plain": [
       "                    Open          High           Low         Close  \\\n",
       "Date                                                                 \n",
       "2016-05-05  17664.480469  17736.109375  17615.820312  17660.710938   \n",
       "2016-05-04  17735.019531  17738.060547  17609.009766  17651.259766   \n",
       "2016-05-03  17870.750000  17870.750000  17670.880859  17750.910156   \n",
       "2016-05-02  17783.779297  17912.349609  17773.710938  17891.160156   \n",
       "2016-04-29  17813.089844  17814.830078  17651.980469  17773.640625   \n",
       "\n",
       "                 Volume  Adjusted Close  \n",
       "Date                                     \n",
       "2016-05-05   81530000.0    17660.710938  \n",
       "2016-05-04   95020000.0    17651.259766  \n",
       "2016-05-03   97060000.0    17750.910156  \n",
       "2016-05-02   80100000.0    17891.160156  \n",
       "2016-04-29  136670000.0    17773.640625  "
      ]
     },
     "execution_count": 6,
     "metadata": {},
     "output_type": "execute_result"
    }
   ],
   "source": [
    "pd.read_csv(\"data/YAHOO-INDEX_DJI.csv\", index_col='Date').head()"
   ]
  },
  {
   "cell_type": "code",
   "execution_count": 9,
   "metadata": {
    "hidden": true
   },
   "outputs": [
    {
     "data": {
      "text/html": [
       "<div>\n",
       "<style scoped>\n",
       "    .dataframe tbody tr th:only-of-type {\n",
       "        vertical-align: middle;\n",
       "    }\n",
       "\n",
       "    .dataframe tbody tr th {\n",
       "        vertical-align: top;\n",
       "    }\n",
       "\n",
       "    .dataframe thead th {\n",
       "        text-align: right;\n",
       "    }\n",
       "</style>\n",
       "<table border=\"1\" class=\"dataframe\">\n",
       "  <thead>\n",
       "    <tr style=\"text-align: right;\">\n",
       "      <th></th>\n",
       "      <th>Open</th>\n",
       "      <th>High</th>\n",
       "      <th>Low</th>\n",
       "      <th>Close</th>\n",
       "      <th>Volume</th>\n",
       "      <th>Adjusted Close</th>\n",
       "      <th>change</th>\n",
       "    </tr>\n",
       "    <tr>\n",
       "      <th>Date</th>\n",
       "      <th></th>\n",
       "      <th></th>\n",
       "      <th></th>\n",
       "      <th></th>\n",
       "      <th></th>\n",
       "      <th></th>\n",
       "      <th></th>\n",
       "    </tr>\n",
       "  </thead>\n",
       "  <tbody>\n",
       "    <tr>\n",
       "      <th>2016-05-05</th>\n",
       "      <td>17664.480469</td>\n",
       "      <td>17736.109375</td>\n",
       "      <td>17615.820312</td>\n",
       "      <td>17660.710938</td>\n",
       "      <td>81530000.0</td>\n",
       "      <td>17660.710938</td>\n",
       "      <td>NaN</td>\n",
       "    </tr>\n",
       "    <tr>\n",
       "      <th>2016-05-04</th>\n",
       "      <td>17735.019531</td>\n",
       "      <td>17738.060547</td>\n",
       "      <td>17609.009766</td>\n",
       "      <td>17651.259766</td>\n",
       "      <td>95020000.0</td>\n",
       "      <td>17651.259766</td>\n",
       "      <td>-0.000535</td>\n",
       "    </tr>\n",
       "    <tr>\n",
       "      <th>2016-05-03</th>\n",
       "      <td>17870.750000</td>\n",
       "      <td>17870.750000</td>\n",
       "      <td>17670.880859</td>\n",
       "      <td>17750.910156</td>\n",
       "      <td>97060000.0</td>\n",
       "      <td>17750.910156</td>\n",
       "      <td>0.005646</td>\n",
       "    </tr>\n",
       "    <tr>\n",
       "      <th>2016-05-02</th>\n",
       "      <td>17783.779297</td>\n",
       "      <td>17912.349609</td>\n",
       "      <td>17773.710938</td>\n",
       "      <td>17891.160156</td>\n",
       "      <td>80100000.0</td>\n",
       "      <td>17891.160156</td>\n",
       "      <td>0.007901</td>\n",
       "    </tr>\n",
       "    <tr>\n",
       "      <th>2016-04-29</th>\n",
       "      <td>17813.089844</td>\n",
       "      <td>17814.830078</td>\n",
       "      <td>17651.980469</td>\n",
       "      <td>17773.640625</td>\n",
       "      <td>136670000.0</td>\n",
       "      <td>17773.640625</td>\n",
       "      <td>-0.006569</td>\n",
       "    </tr>\n",
       "  </tbody>\n",
       "</table>\n",
       "</div>"
      ],
      "text/plain": [
       "                    Open          High           Low         Close  \\\n",
       "Date                                                                 \n",
       "2016-05-05  17664.480469  17736.109375  17615.820312  17660.710938   \n",
       "2016-05-04  17735.019531  17738.060547  17609.009766  17651.259766   \n",
       "2016-05-03  17870.750000  17870.750000  17670.880859  17750.910156   \n",
       "2016-05-02  17783.779297  17912.349609  17773.710938  17891.160156   \n",
       "2016-04-29  17813.089844  17814.830078  17651.980469  17773.640625   \n",
       "\n",
       "                 Volume  Adjusted Close    change  \n",
       "Date                                               \n",
       "2016-05-05   81530000.0    17660.710938       NaN  \n",
       "2016-05-04   95020000.0    17651.259766 -0.000535  \n",
       "2016-05-03   97060000.0    17750.910156  0.005646  \n",
       "2016-05-02   80100000.0    17891.160156  0.007901  \n",
       "2016-04-29  136670000.0    17773.640625 -0.006569  "
      ]
     },
     "execution_count": 9,
     "metadata": {},
     "output_type": "execute_result"
    }
   ],
   "source": [
    "df = pd.read_csv(\"data/YAHOO-INDEX_DJI.csv\", index_col='Date')\n",
    "df['change'] = df[\"Adjusted Close\"].pct_change()\n",
    "df.head()"
   ]
  },
  {
   "cell_type": "code",
   "execution_count": 10,
   "metadata": {
    "hidden": true
   },
   "outputs": [],
   "source": [
    "df.to_csv(\"data/DJI_Change.csv\")"
   ]
  },
  {
   "cell_type": "markdown",
   "metadata": {
    "heading_collapsed": true
   },
   "source": [
    "## EXCEL"
   ]
  },
  {
   "cell_type": "markdown",
   "metadata": {
    "heading_collapsed": true,
    "hidden": true
   },
   "source": [
    "### Reading Excel Files\n",
    "In the most basic use-case, read_excel takes a path to an Excel file, and the sheetname indicating which sheet to parse.\n",
    "\n",
    "#### Returns a DataFrame\n",
    "`read_excel('path_to_file.xls', sheetname='Sheet1')`"
   ]
  },
  {
   "cell_type": "code",
   "execution_count": 13,
   "metadata": {
    "hidden": true
   },
   "outputs": [
    {
     "data": {
      "text/html": [
       "<div>\n",
       "<style scoped>\n",
       "    .dataframe tbody tr th:only-of-type {\n",
       "        vertical-align: middle;\n",
       "    }\n",
       "\n",
       "    .dataframe tbody tr th {\n",
       "        vertical-align: top;\n",
       "    }\n",
       "\n",
       "    .dataframe thead th {\n",
       "        text-align: right;\n",
       "    }\n",
       "</style>\n",
       "<table border=\"1\" class=\"dataframe\">\n",
       "  <thead>\n",
       "    <tr style=\"text-align: right;\">\n",
       "      <th></th>\n",
       "      <th>Name</th>\n",
       "      <th>ICA</th>\n",
       "      <th>Exam</th>\n",
       "      <th>Grade</th>\n",
       "      <th>Module</th>\n",
       "    </tr>\n",
       "  </thead>\n",
       "  <tbody>\n",
       "    <tr>\n",
       "      <th>0</th>\n",
       "      <td>ALISON</td>\n",
       "      <td>0.85</td>\n",
       "      <td>0.60</td>\n",
       "      <td>B</td>\n",
       "      <td>Skydiving</td>\n",
       "    </tr>\n",
       "    <tr>\n",
       "      <th>1</th>\n",
       "      <td>BOB</td>\n",
       "      <td>0.52</td>\n",
       "      <td>0.63</td>\n",
       "      <td>C</td>\n",
       "      <td>Skydiving</td>\n",
       "    </tr>\n",
       "    <tr>\n",
       "      <th>2</th>\n",
       "      <td>JOHN</td>\n",
       "      <td>0.75</td>\n",
       "      <td>0.67</td>\n",
       "      <td>C</td>\n",
       "      <td>Skydiving</td>\n",
       "    </tr>\n",
       "    <tr>\n",
       "      <th>3</th>\n",
       "      <td>OLIVIA</td>\n",
       "      <td>0.84</td>\n",
       "      <td>0.80</td>\n",
       "      <td>A</td>\n",
       "      <td>Skydiving</td>\n",
       "    </tr>\n",
       "    <tr>\n",
       "      <th>4</th>\n",
       "      <td>TOFU</td>\n",
       "      <td>0.60</td>\n",
       "      <td>0.91</td>\n",
       "      <td>A</td>\n",
       "      <td>Skydiving</td>\n",
       "    </tr>\n",
       "    <tr>\n",
       "      <th>5</th>\n",
       "      <td>WILFRED</td>\n",
       "      <td>0.81</td>\n",
       "      <td>0.93</td>\n",
       "      <td>A</td>\n",
       "      <td>Skydiving</td>\n",
       "    </tr>\n",
       "  </tbody>\n",
       "</table>\n",
       "</div>"
      ],
      "text/plain": [
       "      Name   ICA  Exam Grade     Module\n",
       "0   ALISON  0.85  0.60     B  Skydiving\n",
       "1      BOB  0.52  0.63     C  Skydiving\n",
       "2     JOHN  0.75  0.67     C  Skydiving\n",
       "3   OLIVIA  0.84  0.80     A  Skydiving\n",
       "4     TOFU  0.60  0.91     A  Skydiving\n",
       "5  WILFRED  0.81  0.93     A  Skydiving"
      ]
     },
     "execution_count": 13,
     "metadata": {},
     "output_type": "execute_result"
    }
   ],
   "source": [
    "pd.read_excel(\"data/sample_excel.xlsx\")"
   ]
  },
  {
   "cell_type": "code",
   "execution_count": 14,
   "metadata": {
    "hidden": true,
    "scrolled": true
   },
   "outputs": [
    {
     "data": {
      "text/html": [
       "<div>\n",
       "<style scoped>\n",
       "    .dataframe tbody tr th:only-of-type {\n",
       "        vertical-align: middle;\n",
       "    }\n",
       "\n",
       "    .dataframe tbody tr th {\n",
       "        vertical-align: top;\n",
       "    }\n",
       "\n",
       "    .dataframe thead th {\n",
       "        text-align: right;\n",
       "    }\n",
       "</style>\n",
       "<table border=\"1\" class=\"dataframe\">\n",
       "  <thead>\n",
       "    <tr style=\"text-align: right;\">\n",
       "      <th></th>\n",
       "      <th>Name</th>\n",
       "      <th>ICA</th>\n",
       "      <th>Exam</th>\n",
       "      <th>Grade</th>\n",
       "      <th>Module</th>\n",
       "    </tr>\n",
       "  </thead>\n",
       "  <tbody>\n",
       "    <tr>\n",
       "      <th>0</th>\n",
       "      <td>WILFRED</td>\n",
       "      <td>0.81</td>\n",
       "      <td>0.93</td>\n",
       "      <td>A</td>\n",
       "      <td>Cycling</td>\n",
       "    </tr>\n",
       "    <tr>\n",
       "      <th>1</th>\n",
       "      <td>TOFU</td>\n",
       "      <td>0.60</td>\n",
       "      <td>0.91</td>\n",
       "      <td>A</td>\n",
       "      <td>Cycling</td>\n",
       "    </tr>\n",
       "    <tr>\n",
       "      <th>2</th>\n",
       "      <td>OLIVIA</td>\n",
       "      <td>0.84</td>\n",
       "      <td>0.80</td>\n",
       "      <td>A</td>\n",
       "      <td>Cycling</td>\n",
       "    </tr>\n",
       "    <tr>\n",
       "      <th>3</th>\n",
       "      <td>JOHN</td>\n",
       "      <td>0.75</td>\n",
       "      <td>0.67</td>\n",
       "      <td>C</td>\n",
       "      <td>Cycling</td>\n",
       "    </tr>\n",
       "    <tr>\n",
       "      <th>4</th>\n",
       "      <td>BOB</td>\n",
       "      <td>0.52</td>\n",
       "      <td>0.63</td>\n",
       "      <td>C</td>\n",
       "      <td>Cycling</td>\n",
       "    </tr>\n",
       "    <tr>\n",
       "      <th>5</th>\n",
       "      <td>ALISON</td>\n",
       "      <td>0.85</td>\n",
       "      <td>0.60</td>\n",
       "      <td>B</td>\n",
       "      <td>Cycling</td>\n",
       "    </tr>\n",
       "  </tbody>\n",
       "</table>\n",
       "</div>"
      ],
      "text/plain": [
       "      Name   ICA  Exam Grade   Module\n",
       "0  WILFRED  0.81  0.93     A  Cycling\n",
       "1     TOFU  0.60  0.91     A  Cycling\n",
       "2   OLIVIA  0.84  0.80     A  Cycling\n",
       "3     JOHN  0.75  0.67     C  Cycling\n",
       "4      BOB  0.52  0.63     C  Cycling\n",
       "5   ALISON  0.85  0.60     B  Cycling"
      ]
     },
     "execution_count": 14,
     "metadata": {},
     "output_type": "execute_result"
    }
   ],
   "source": [
    "pd.read_excel(\"data/sample_excel.xlsx\", sheet_name=\"Sheet2\")"
   ]
  },
  {
   "cell_type": "markdown",
   "metadata": {
    "heading_collapsed": true,
    "hidden": true
   },
   "source": [
    "### ExcelFile class\n",
    "To faciliate working with multiple sheets from the same file, the `ExcelFile` class can be used to wrap the file and can be passed into `read_excel` There will be a performance benefit for reading multiple sheets as the file is read into memory only once."
   ]
  },
  {
   "cell_type": "code",
   "execution_count": 15,
   "metadata": {
    "hidden": true
   },
   "outputs": [
    {
     "data": {
      "text/html": [
       "<div>\n",
       "<style scoped>\n",
       "    .dataframe tbody tr th:only-of-type {\n",
       "        vertical-align: middle;\n",
       "    }\n",
       "\n",
       "    .dataframe tbody tr th {\n",
       "        vertical-align: top;\n",
       "    }\n",
       "\n",
       "    .dataframe thead th {\n",
       "        text-align: right;\n",
       "    }\n",
       "</style>\n",
       "<table border=\"1\" class=\"dataframe\">\n",
       "  <thead>\n",
       "    <tr style=\"text-align: right;\">\n",
       "      <th></th>\n",
       "      <th>Name</th>\n",
       "      <th>ICA</th>\n",
       "      <th>Exam</th>\n",
       "      <th>Grade</th>\n",
       "      <th>Module</th>\n",
       "    </tr>\n",
       "  </thead>\n",
       "  <tbody>\n",
       "    <tr>\n",
       "      <th>0</th>\n",
       "      <td>ALISON</td>\n",
       "      <td>0.85</td>\n",
       "      <td>0.60</td>\n",
       "      <td>B</td>\n",
       "      <td>Skydiving</td>\n",
       "    </tr>\n",
       "    <tr>\n",
       "      <th>1</th>\n",
       "      <td>BOB</td>\n",
       "      <td>0.52</td>\n",
       "      <td>0.63</td>\n",
       "      <td>C</td>\n",
       "      <td>Skydiving</td>\n",
       "    </tr>\n",
       "    <tr>\n",
       "      <th>2</th>\n",
       "      <td>JOHN</td>\n",
       "      <td>0.75</td>\n",
       "      <td>0.67</td>\n",
       "      <td>C</td>\n",
       "      <td>Skydiving</td>\n",
       "    </tr>\n",
       "    <tr>\n",
       "      <th>3</th>\n",
       "      <td>OLIVIA</td>\n",
       "      <td>0.84</td>\n",
       "      <td>0.80</td>\n",
       "      <td>A</td>\n",
       "      <td>Skydiving</td>\n",
       "    </tr>\n",
       "    <tr>\n",
       "      <th>4</th>\n",
       "      <td>TOFU</td>\n",
       "      <td>0.60</td>\n",
       "      <td>0.91</td>\n",
       "      <td>A</td>\n",
       "      <td>Skydiving</td>\n",
       "    </tr>\n",
       "    <tr>\n",
       "      <th>5</th>\n",
       "      <td>WILFRED</td>\n",
       "      <td>0.81</td>\n",
       "      <td>0.93</td>\n",
       "      <td>A</td>\n",
       "      <td>Skydiving</td>\n",
       "    </tr>\n",
       "  </tbody>\n",
       "</table>\n",
       "</div>"
      ],
      "text/plain": [
       "      Name   ICA  Exam Grade     Module\n",
       "0   ALISON  0.85  0.60     B  Skydiving\n",
       "1      BOB  0.52  0.63     C  Skydiving\n",
       "2     JOHN  0.75  0.67     C  Skydiving\n",
       "3   OLIVIA  0.84  0.80     A  Skydiving\n",
       "4     TOFU  0.60  0.91     A  Skydiving\n",
       "5  WILFRED  0.81  0.93     A  Skydiving"
      ]
     },
     "execution_count": 15,
     "metadata": {},
     "output_type": "execute_result"
    }
   ],
   "source": [
    "xlsx = pd.ExcelFile(\"data/sample_excel.xlsx\")\n",
    "df = pd.read_excel(xlsx, 'Sheet1')\n",
    "df"
   ]
  },
  {
   "cell_type": "code",
   "execution_count": 16,
   "metadata": {
    "hidden": true
   },
   "outputs": [
    {
     "data": {
      "text/html": [
       "<div>\n",
       "<style scoped>\n",
       "    .dataframe tbody tr th:only-of-type {\n",
       "        vertical-align: middle;\n",
       "    }\n",
       "\n",
       "    .dataframe tbody tr th {\n",
       "        vertical-align: top;\n",
       "    }\n",
       "\n",
       "    .dataframe thead th {\n",
       "        text-align: right;\n",
       "    }\n",
       "</style>\n",
       "<table border=\"1\" class=\"dataframe\">\n",
       "  <thead>\n",
       "    <tr style=\"text-align: right;\">\n",
       "      <th></th>\n",
       "      <th>Name</th>\n",
       "      <th>ICA</th>\n",
       "      <th>Exam</th>\n",
       "      <th>Grade</th>\n",
       "      <th>Module</th>\n",
       "    </tr>\n",
       "  </thead>\n",
       "  <tbody>\n",
       "    <tr>\n",
       "      <th>0</th>\n",
       "      <td>WILFRED</td>\n",
       "      <td>0.81</td>\n",
       "      <td>0.93</td>\n",
       "      <td>A</td>\n",
       "      <td>Cycling</td>\n",
       "    </tr>\n",
       "    <tr>\n",
       "      <th>1</th>\n",
       "      <td>TOFU</td>\n",
       "      <td>0.60</td>\n",
       "      <td>0.91</td>\n",
       "      <td>A</td>\n",
       "      <td>Cycling</td>\n",
       "    </tr>\n",
       "    <tr>\n",
       "      <th>2</th>\n",
       "      <td>OLIVIA</td>\n",
       "      <td>0.84</td>\n",
       "      <td>0.80</td>\n",
       "      <td>A</td>\n",
       "      <td>Cycling</td>\n",
       "    </tr>\n",
       "    <tr>\n",
       "      <th>3</th>\n",
       "      <td>JOHN</td>\n",
       "      <td>0.75</td>\n",
       "      <td>0.67</td>\n",
       "      <td>C</td>\n",
       "      <td>Cycling</td>\n",
       "    </tr>\n",
       "    <tr>\n",
       "      <th>4</th>\n",
       "      <td>BOB</td>\n",
       "      <td>0.52</td>\n",
       "      <td>0.63</td>\n",
       "      <td>C</td>\n",
       "      <td>Cycling</td>\n",
       "    </tr>\n",
       "    <tr>\n",
       "      <th>5</th>\n",
       "      <td>ALISON</td>\n",
       "      <td>0.85</td>\n",
       "      <td>0.60</td>\n",
       "      <td>B</td>\n",
       "      <td>Cycling</td>\n",
       "    </tr>\n",
       "  </tbody>\n",
       "</table>\n",
       "</div>"
      ],
      "text/plain": [
       "      Name   ICA  Exam Grade   Module\n",
       "0  WILFRED  0.81  0.93     A  Cycling\n",
       "1     TOFU  0.60  0.91     A  Cycling\n",
       "2   OLIVIA  0.84  0.80     A  Cycling\n",
       "3     JOHN  0.75  0.67     C  Cycling\n",
       "4      BOB  0.52  0.63     C  Cycling\n",
       "5   ALISON  0.85  0.60     B  Cycling"
      ]
     },
     "execution_count": 16,
     "metadata": {},
     "output_type": "execute_result"
    }
   ],
   "source": [
    "df2 = pd.read_excel(xlsx, 'Sheet2')\n",
    "df2"
   ]
  },
  {
   "cell_type": "markdown",
   "metadata": {
    "heading_collapsed": true,
    "hidden": true
   },
   "source": [
    "### Writing Excel Files to Disk\n",
    "`df.to_excel('path_to_file.xlsx', sheet_name='Sheet1')`"
   ]
  },
  {
   "cell_type": "code",
   "execution_count": 17,
   "metadata": {
    "hidden": true
   },
   "outputs": [
    {
     "data": {
      "text/html": [
       "<div>\n",
       "<style scoped>\n",
       "    .dataframe tbody tr th:only-of-type {\n",
       "        vertical-align: middle;\n",
       "    }\n",
       "\n",
       "    .dataframe tbody tr th {\n",
       "        vertical-align: top;\n",
       "    }\n",
       "\n",
       "    .dataframe thead th {\n",
       "        text-align: right;\n",
       "    }\n",
       "</style>\n",
       "<table border=\"1\" class=\"dataframe\">\n",
       "  <thead>\n",
       "    <tr style=\"text-align: right;\">\n",
       "      <th></th>\n",
       "      <th>Name</th>\n",
       "      <th>ICA</th>\n",
       "      <th>Exam</th>\n",
       "      <th>Grade</th>\n",
       "      <th>Module</th>\n",
       "    </tr>\n",
       "  </thead>\n",
       "  <tbody>\n",
       "    <tr>\n",
       "      <th>0</th>\n",
       "      <td>WILFRED</td>\n",
       "      <td>0.86</td>\n",
       "      <td>0.93</td>\n",
       "      <td>A</td>\n",
       "      <td>Cycling</td>\n",
       "    </tr>\n",
       "    <tr>\n",
       "      <th>1</th>\n",
       "      <td>TOFU</td>\n",
       "      <td>0.65</td>\n",
       "      <td>0.91</td>\n",
       "      <td>A</td>\n",
       "      <td>Cycling</td>\n",
       "    </tr>\n",
       "    <tr>\n",
       "      <th>2</th>\n",
       "      <td>OLIVIA</td>\n",
       "      <td>0.89</td>\n",
       "      <td>0.80</td>\n",
       "      <td>A</td>\n",
       "      <td>Cycling</td>\n",
       "    </tr>\n",
       "    <tr>\n",
       "      <th>3</th>\n",
       "      <td>JOHN</td>\n",
       "      <td>0.80</td>\n",
       "      <td>0.67</td>\n",
       "      <td>C</td>\n",
       "      <td>Cycling</td>\n",
       "    </tr>\n",
       "    <tr>\n",
       "      <th>4</th>\n",
       "      <td>BOB</td>\n",
       "      <td>0.57</td>\n",
       "      <td>0.63</td>\n",
       "      <td>C</td>\n",
       "      <td>Cycling</td>\n",
       "    </tr>\n",
       "    <tr>\n",
       "      <th>5</th>\n",
       "      <td>ALISON</td>\n",
       "      <td>0.90</td>\n",
       "      <td>0.60</td>\n",
       "      <td>B</td>\n",
       "      <td>Cycling</td>\n",
       "    </tr>\n",
       "  </tbody>\n",
       "</table>\n",
       "</div>"
      ],
      "text/plain": [
       "      Name   ICA  Exam Grade   Module\n",
       "0  WILFRED  0.86  0.93     A  Cycling\n",
       "1     TOFU  0.65  0.91     A  Cycling\n",
       "2   OLIVIA  0.89  0.80     A  Cycling\n",
       "3     JOHN  0.80  0.67     C  Cycling\n",
       "4      BOB  0.57  0.63     C  Cycling\n",
       "5   ALISON  0.90  0.60     B  Cycling"
      ]
     },
     "execution_count": 17,
     "metadata": {},
     "output_type": "execute_result"
    }
   ],
   "source": [
    "df2['ICA'] = df2['ICA'] + 0.05\n",
    "df2"
   ]
  },
  {
   "cell_type": "code",
   "execution_count": 18,
   "metadata": {
    "hidden": true
   },
   "outputs": [],
   "source": [
    "df2.to_excel(\"data/moderate.xlsx\", 'Sheet2')"
   ]
  },
  {
   "cell_type": "code",
   "execution_count": 20,
   "metadata": {
    "hidden": true
   },
   "outputs": [
    {
     "data": {
      "text/html": [
       "<div>\n",
       "<style scoped>\n",
       "    .dataframe tbody tr th:only-of-type {\n",
       "        vertical-align: middle;\n",
       "    }\n",
       "\n",
       "    .dataframe tbody tr th {\n",
       "        vertical-align: top;\n",
       "    }\n",
       "\n",
       "    .dataframe thead th {\n",
       "        text-align: right;\n",
       "    }\n",
       "</style>\n",
       "<table border=\"1\" class=\"dataframe\">\n",
       "  <thead>\n",
       "    <tr style=\"text-align: right;\">\n",
       "      <th></th>\n",
       "      <th>Name</th>\n",
       "      <th>ICA</th>\n",
       "      <th>Exam</th>\n",
       "      <th>Grade</th>\n",
       "      <th>Module</th>\n",
       "    </tr>\n",
       "  </thead>\n",
       "  <tbody>\n",
       "    <tr>\n",
       "      <th>0</th>\n",
       "      <td>WILFRED</td>\n",
       "      <td>0.86</td>\n",
       "      <td>0.93</td>\n",
       "      <td>A</td>\n",
       "      <td>Cycling</td>\n",
       "    </tr>\n",
       "    <tr>\n",
       "      <th>1</th>\n",
       "      <td>TOFU</td>\n",
       "      <td>0.65</td>\n",
       "      <td>0.91</td>\n",
       "      <td>A</td>\n",
       "      <td>Cycling</td>\n",
       "    </tr>\n",
       "    <tr>\n",
       "      <th>2</th>\n",
       "      <td>OLIVIA</td>\n",
       "      <td>0.89</td>\n",
       "      <td>0.80</td>\n",
       "      <td>A</td>\n",
       "      <td>Cycling</td>\n",
       "    </tr>\n",
       "    <tr>\n",
       "      <th>3</th>\n",
       "      <td>JOHN</td>\n",
       "      <td>0.80</td>\n",
       "      <td>0.67</td>\n",
       "      <td>C</td>\n",
       "      <td>Cycling</td>\n",
       "    </tr>\n",
       "    <tr>\n",
       "      <th>4</th>\n",
       "      <td>BOB</td>\n",
       "      <td>0.57</td>\n",
       "      <td>0.63</td>\n",
       "      <td>C</td>\n",
       "      <td>Cycling</td>\n",
       "    </tr>\n",
       "    <tr>\n",
       "      <th>5</th>\n",
       "      <td>ALISON</td>\n",
       "      <td>0.90</td>\n",
       "      <td>0.60</td>\n",
       "      <td>B</td>\n",
       "      <td>Cycling</td>\n",
       "    </tr>\n",
       "  </tbody>\n",
       "</table>\n",
       "</div>"
      ],
      "text/plain": [
       "      Name   ICA  Exam Grade   Module\n",
       "0  WILFRED  0.86  0.93     A  Cycling\n",
       "1     TOFU  0.65  0.91     A  Cycling\n",
       "2   OLIVIA  0.89  0.80     A  Cycling\n",
       "3     JOHN  0.80  0.67     C  Cycling\n",
       "4      BOB  0.57  0.63     C  Cycling\n",
       "5   ALISON  0.90  0.60     B  Cycling"
      ]
     },
     "execution_count": 20,
     "metadata": {},
     "output_type": "execute_result"
    }
   ],
   "source": [
    "pd.read_excel(\"data/moderate.xlsx\", \"Sheet2\")"
   ]
  },
  {
   "cell_type": "markdown",
   "metadata": {
    "hidden": true
   },
   "source": [
    "***"
   ]
  },
  {
   "cell_type": "markdown",
   "metadata": {
    "heading_collapsed": true
   },
   "source": [
    "## HDF5 (PyTables)"
   ]
  },
  {
   "cell_type": "code",
   "execution_count": 21,
   "metadata": {
    "hidden": true
   },
   "outputs": [],
   "source": [
    "import pandas as pd\n",
    "import numpy as np\n",
    "index = pd.date_range('1/1/2000', periods=8)\n",
    "s = pd.Series(np.random.randn(5), index=['a', 'b', 'c', 'd', 'e'])\n",
    "df = pd.DataFrame(np.random.randn(8, 3), index=index,\n",
    "                  columns=['A', 'B', 'C'])"
   ]
  },
  {
   "cell_type": "code",
   "execution_count": 22,
   "metadata": {
    "hidden": true
   },
   "outputs": [
    {
     "data": {
      "text/html": [
       "<div>\n",
       "<style scoped>\n",
       "    .dataframe tbody tr th:only-of-type {\n",
       "        vertical-align: middle;\n",
       "    }\n",
       "\n",
       "    .dataframe tbody tr th {\n",
       "        vertical-align: top;\n",
       "    }\n",
       "\n",
       "    .dataframe thead th {\n",
       "        text-align: right;\n",
       "    }\n",
       "</style>\n",
       "<table border=\"1\" class=\"dataframe\">\n",
       "  <thead>\n",
       "    <tr style=\"text-align: right;\">\n",
       "      <th></th>\n",
       "      <th>A</th>\n",
       "      <th>B</th>\n",
       "      <th>C</th>\n",
       "    </tr>\n",
       "  </thead>\n",
       "  <tbody>\n",
       "    <tr>\n",
       "      <th>2000-01-01</th>\n",
       "      <td>1.594439</td>\n",
       "      <td>-1.307028</td>\n",
       "      <td>2.129163</td>\n",
       "    </tr>\n",
       "    <tr>\n",
       "      <th>2000-01-02</th>\n",
       "      <td>-1.161984</td>\n",
       "      <td>-1.754743</td>\n",
       "      <td>1.643686</td>\n",
       "    </tr>\n",
       "    <tr>\n",
       "      <th>2000-01-03</th>\n",
       "      <td>0.044365</td>\n",
       "      <td>-0.399931</td>\n",
       "      <td>0.145398</td>\n",
       "    </tr>\n",
       "    <tr>\n",
       "      <th>2000-01-04</th>\n",
       "      <td>-0.808525</td>\n",
       "      <td>-0.665248</td>\n",
       "      <td>-0.718566</td>\n",
       "    </tr>\n",
       "    <tr>\n",
       "      <th>2000-01-05</th>\n",
       "      <td>-0.601063</td>\n",
       "      <td>-0.132647</td>\n",
       "      <td>0.109228</td>\n",
       "    </tr>\n",
       "    <tr>\n",
       "      <th>2000-01-06</th>\n",
       "      <td>0.849938</td>\n",
       "      <td>0.549318</td>\n",
       "      <td>0.224765</td>\n",
       "    </tr>\n",
       "    <tr>\n",
       "      <th>2000-01-07</th>\n",
       "      <td>-0.485072</td>\n",
       "      <td>1.495504</td>\n",
       "      <td>-1.490180</td>\n",
       "    </tr>\n",
       "    <tr>\n",
       "      <th>2000-01-08</th>\n",
       "      <td>0.864960</td>\n",
       "      <td>-1.422978</td>\n",
       "      <td>0.229620</td>\n",
       "    </tr>\n",
       "  </tbody>\n",
       "</table>\n",
       "</div>"
      ],
      "text/plain": [
       "                   A         B         C\n",
       "2000-01-01  1.594439 -1.307028  2.129163\n",
       "2000-01-02 -1.161984 -1.754743  1.643686\n",
       "2000-01-03  0.044365 -0.399931  0.145398\n",
       "2000-01-04 -0.808525 -0.665248 -0.718566\n",
       "2000-01-05 -0.601063 -0.132647  0.109228\n",
       "2000-01-06  0.849938  0.549318  0.224765\n",
       "2000-01-07 -0.485072  1.495504 -1.490180\n",
       "2000-01-08  0.864960 -1.422978  0.229620"
      ]
     },
     "execution_count": 22,
     "metadata": {},
     "output_type": "execute_result"
    }
   ],
   "source": [
    "df"
   ]
  },
  {
   "cell_type": "code",
   "execution_count": 24,
   "metadata": {
    "hidden": true
   },
   "outputs": [],
   "source": [
    "df.to_hdf('data/res.h5', key='table')"
   ]
  },
  {
   "cell_type": "code",
   "execution_count": 25,
   "metadata": {
    "hidden": true
   },
   "outputs": [
    {
     "data": {
      "text/html": [
       "<div>\n",
       "<style scoped>\n",
       "    .dataframe tbody tr th:only-of-type {\n",
       "        vertical-align: middle;\n",
       "    }\n",
       "\n",
       "    .dataframe tbody tr th {\n",
       "        vertical-align: top;\n",
       "    }\n",
       "\n",
       "    .dataframe thead th {\n",
       "        text-align: right;\n",
       "    }\n",
       "</style>\n",
       "<table border=\"1\" class=\"dataframe\">\n",
       "  <thead>\n",
       "    <tr style=\"text-align: right;\">\n",
       "      <th></th>\n",
       "      <th>A</th>\n",
       "      <th>B</th>\n",
       "      <th>C</th>\n",
       "    </tr>\n",
       "  </thead>\n",
       "  <tbody>\n",
       "    <tr>\n",
       "      <th>2000-01-01</th>\n",
       "      <td>1.594439</td>\n",
       "      <td>-1.307028</td>\n",
       "      <td>2.129163</td>\n",
       "    </tr>\n",
       "    <tr>\n",
       "      <th>2000-01-02</th>\n",
       "      <td>-1.161984</td>\n",
       "      <td>-1.754743</td>\n",
       "      <td>1.643686</td>\n",
       "    </tr>\n",
       "    <tr>\n",
       "      <th>2000-01-03</th>\n",
       "      <td>0.044365</td>\n",
       "      <td>-0.399931</td>\n",
       "      <td>0.145398</td>\n",
       "    </tr>\n",
       "    <tr>\n",
       "      <th>2000-01-04</th>\n",
       "      <td>-0.808525</td>\n",
       "      <td>-0.665248</td>\n",
       "      <td>-0.718566</td>\n",
       "    </tr>\n",
       "    <tr>\n",
       "      <th>2000-01-05</th>\n",
       "      <td>-0.601063</td>\n",
       "      <td>-0.132647</td>\n",
       "      <td>0.109228</td>\n",
       "    </tr>\n",
       "    <tr>\n",
       "      <th>2000-01-06</th>\n",
       "      <td>0.849938</td>\n",
       "      <td>0.549318</td>\n",
       "      <td>0.224765</td>\n",
       "    </tr>\n",
       "    <tr>\n",
       "      <th>2000-01-07</th>\n",
       "      <td>-0.485072</td>\n",
       "      <td>1.495504</td>\n",
       "      <td>-1.490180</td>\n",
       "    </tr>\n",
       "    <tr>\n",
       "      <th>2000-01-08</th>\n",
       "      <td>0.864960</td>\n",
       "      <td>-1.422978</td>\n",
       "      <td>0.229620</td>\n",
       "    </tr>\n",
       "  </tbody>\n",
       "</table>\n",
       "</div>"
      ],
      "text/plain": [
       "                   A         B         C\n",
       "2000-01-01  1.594439 -1.307028  2.129163\n",
       "2000-01-02 -1.161984 -1.754743  1.643686\n",
       "2000-01-03  0.044365 -0.399931  0.145398\n",
       "2000-01-04 -0.808525 -0.665248 -0.718566\n",
       "2000-01-05 -0.601063 -0.132647  0.109228\n",
       "2000-01-06  0.849938  0.549318  0.224765\n",
       "2000-01-07 -0.485072  1.495504 -1.490180\n",
       "2000-01-08  0.864960 -1.422978  0.229620"
      ]
     },
     "execution_count": 25,
     "metadata": {},
     "output_type": "execute_result"
    }
   ],
   "source": [
    "pd.read_hdf('data/res.h5', key='table')"
   ]
  },
  {
   "cell_type": "code",
   "execution_count": 26,
   "metadata": {
    "hidden": true
   },
   "outputs": [
    {
     "name": "stdout",
     "output_type": "stream",
     "text": [
      "total 3872\r\n",
      "-rw-r--r--@ 1 anthonyn  staff   56879 Jun  9 14:33 AAPL.csv\r\n",
      "-rw-r--r--@ 1 anthonyn  staff   51933 Jun  9 14:33 AMZN.csv\r\n",
      "-rw-r--r--@ 1 anthonyn  staff  850352 Jun 19 18:10 DJI_Change.csv\r\n",
      "-rw-r--r--@ 1 anthonyn  staff   37502 Jun 10 18:35 F-F_Benchmark_Factors_Monthly.txt\r\n",
      "-rw-r--r--@ 1 anthonyn  staff   52772 Jun  9 14:33 GLD.csv\r\n",
      "-rw-r--r--@ 1 anthonyn  staff   57297 Jun  9 14:33 SPY.csv\r\n",
      "-rw-r--r--@ 1 anthonyn  staff   96768 Jun 13 17:45 WHOILNYH.xls\r\n",
      "-rw-r--r--@ 1 anthonyn  staff  655023 May  6  2016 YAHOO-INDEX_DJI.csv\r\n",
      "-rw-r--r--@ 1 anthonyn  staff   62738 Jun 13 16:38 ^GSPC.csv\r\n",
      "-rw-r--r--@ 1 anthonyn  staff    9440 Jun 13 17:36 heating-oil-prices-historical-chart-data.csv\r\n",
      "-rw-r--r--@ 1 anthonyn  staff    5685 Jun 19 18:15 moderate.xlsx\r\n",
      "-rw-r--r--@ 1 anthonyn  staff    7336 Jun 19 18:16 res.h5\r\n",
      "-rw-r--r--@ 1 anthonyn  staff   10880 Jun 19 18:12 sample_excel.xlsx\r\n",
      "-rw-r--r--@ 1 anthonyn  staff      64 Jun 18 16:06 test_file.csv\r\n",
      "-rw-r--r--@ 1 anthonyn  staff     319 Jun  3 14:48 wine.csv\r\n"
     ]
    }
   ],
   "source": [
    "ll data"
   ]
  },
  {
   "cell_type": "markdown",
   "metadata": {
    "hidden": true
   },
   "source": [
    "***"
   ]
  }
 ],
 "metadata": {
  "anaconda-cloud": {},
  "kernelspec": {
   "display_name": "Python 3",
   "language": "python",
   "name": "python3"
  },
  "language_info": {
   "codemirror_mode": {
    "name": "ipython",
    "version": 3
   },
   "file_extension": ".py",
   "mimetype": "text/x-python",
   "name": "python",
   "nbconvert_exporter": "python",
   "pygments_lexer": "ipython3",
   "version": "3.5.5"
  }
 },
 "nbformat": 4,
 "nbformat_minor": 1
}
