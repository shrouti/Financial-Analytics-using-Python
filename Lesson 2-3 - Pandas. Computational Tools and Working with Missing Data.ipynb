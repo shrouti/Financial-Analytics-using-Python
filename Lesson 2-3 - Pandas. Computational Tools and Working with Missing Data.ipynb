{
 "cells": [
  {
   "cell_type": "markdown",
   "metadata": {},
   "source": [
    "# Getting Started Part 2"
   ]
  },
  {
   "cell_type": "markdown",
   "metadata": {
    "heading_collapsed": true
   },
   "source": [
    "## Learning Outcomes"
   ]
  },
  {
   "cell_type": "markdown",
   "metadata": {
    "hidden": true
   },
   "source": [
    "\n",
    "\n",
    "The training below is adopted from the [Pandas online reference](http://pandas.pydata.org/pandas-docs/stable/)\n",
    "\n",
    "\n",
    "At the end of the workshop, students would have gained an appreciate and hand-ons practical experience on the following topics:\n",
    "* Computational tools\n",
    "  * Statistical Functions\n",
    "  * Window Functions\n",
    "* Working with missing data\n",
    "  * Missing data basics\n",
    "  * Datetimes\n",
    "  * Cleaning / filling missing data"
   ]
  },
  {
   "cell_type": "markdown",
   "metadata": {},
   "source": [
    "# Computational Tools"
   ]
  },
  {
   "cell_type": "markdown",
   "metadata": {
    "heading_collapsed": true
   },
   "source": [
    "## Statistical Functions"
   ]
  },
  {
   "cell_type": "code",
   "execution_count": 1,
   "metadata": {
    "hidden": true
   },
   "outputs": [
    {
     "name": "stdout",
     "output_type": "stream",
     "text": [
      "Pandas version : 0.22.0\n",
      "Numpy version : 1.14.3\n"
     ]
    }
   ],
   "source": [
    "import pandas as pd\n",
    "import numpy as np\n",
    "print(\"Pandas version : {}\".format(pd.__version__))\n",
    "print(\"Numpy version : {}\".format(np.__version__))"
   ]
  },
  {
   "cell_type": "markdown",
   "metadata": {
    "heading_collapsed": true,
    "hidden": true
   },
   "source": [
    "### Percent Change"
   ]
  },
  {
   "cell_type": "code",
   "execution_count": 4,
   "metadata": {
    "hidden": true
   },
   "outputs": [
    {
     "data": {
      "text/plain": [
       "0    0.060326\n",
       "1    1.096528\n",
       "2    2.359523\n",
       "3    1.423788\n",
       "4    1.787632\n",
       "5    1.704594\n",
       "6    1.500491\n",
       "7    2.462475\n",
       "dtype: float64"
      ]
     },
     "execution_count": 4,
     "metadata": {},
     "output_type": "execute_result"
    }
   ],
   "source": [
    "ser = pd.Series(np.random.randn(8)).cumsum()\n",
    "ser"
   ]
  },
  {
   "cell_type": "code",
   "execution_count": 5,
   "metadata": {
    "hidden": true
   },
   "outputs": [
    {
     "data": {
      "text/plain": [
       "0          NaN\n",
       "1    17.176585\n",
       "2     1.151813\n",
       "3    -0.396578\n",
       "4     0.255547\n",
       "5    -0.046451\n",
       "6    -0.119737\n",
       "7     0.641113\n",
       "dtype: float64"
      ]
     },
     "execution_count": 5,
     "metadata": {},
     "output_type": "execute_result"
    }
   ],
   "source": [
    "ser.pct_change()"
   ]
  },
  {
   "cell_type": "code",
   "execution_count": 6,
   "metadata": {
    "hidden": true
   },
   "outputs": [
    {
     "data": {
      "text/plain": [
       "17.275"
      ]
     },
     "execution_count": 6,
     "metadata": {},
     "output_type": "execute_result"
    }
   ],
   "source": [
    "(1.0965 - 0.06) / 0.06"
   ]
  },
  {
   "cell_type": "markdown",
   "metadata": {
    "heading_collapsed": true,
    "hidden": true
   },
   "source": [
    "### Covariance"
   ]
  },
  {
   "cell_type": "code",
   "execution_count": 7,
   "metadata": {
    "hidden": true
   },
   "outputs": [
    {
     "data": {
      "text/plain": [
       "0.008780210720944785"
      ]
     },
     "execution_count": 7,
     "metadata": {},
     "output_type": "execute_result"
    }
   ],
   "source": [
    "s1 = pd.Series(np.random.randn(1000))\n",
    "s2 = pd.Series(np.random.randn(1000))\n",
    "s1.cov(s2)"
   ]
  },
  {
   "cell_type": "code",
   "execution_count": 8,
   "metadata": {
    "hidden": true
   },
   "outputs": [],
   "source": [
    "frame = pd.DataFrame(np.random.randn(1000, 5), columns=['a', 'b', 'c', 'd', 'e'])"
   ]
  },
  {
   "cell_type": "code",
   "execution_count": 9,
   "metadata": {
    "hidden": true,
    "scrolled": true
   },
   "outputs": [
    {
     "data": {
      "text/html": [
       "<div>\n",
       "<style scoped>\n",
       "    .dataframe tbody tr th:only-of-type {\n",
       "        vertical-align: middle;\n",
       "    }\n",
       "\n",
       "    .dataframe tbody tr th {\n",
       "        vertical-align: top;\n",
       "    }\n",
       "\n",
       "    .dataframe thead th {\n",
       "        text-align: right;\n",
       "    }\n",
       "</style>\n",
       "<table border=\"1\" class=\"dataframe\">\n",
       "  <thead>\n",
       "    <tr style=\"text-align: right;\">\n",
       "      <th></th>\n",
       "      <th>a</th>\n",
       "      <th>b</th>\n",
       "      <th>c</th>\n",
       "      <th>d</th>\n",
       "      <th>e</th>\n",
       "    </tr>\n",
       "  </thead>\n",
       "  <tbody>\n",
       "    <tr>\n",
       "      <th>0</th>\n",
       "      <td>-1.496943</td>\n",
       "      <td>0.510324</td>\n",
       "      <td>0.472530</td>\n",
       "      <td>-2.222844</td>\n",
       "      <td>0.096246</td>\n",
       "    </tr>\n",
       "    <tr>\n",
       "      <th>1</th>\n",
       "      <td>-0.199620</td>\n",
       "      <td>1.589933</td>\n",
       "      <td>-1.708555</td>\n",
       "      <td>-0.076118</td>\n",
       "      <td>-0.199592</td>\n",
       "    </tr>\n",
       "    <tr>\n",
       "      <th>2</th>\n",
       "      <td>1.793419</td>\n",
       "      <td>-0.632236</td>\n",
       "      <td>-1.404145</td>\n",
       "      <td>-1.213746</td>\n",
       "      <td>0.298757</td>\n",
       "    </tr>\n",
       "    <tr>\n",
       "      <th>3</th>\n",
       "      <td>0.819102</td>\n",
       "      <td>-1.256702</td>\n",
       "      <td>1.363871</td>\n",
       "      <td>-1.100079</td>\n",
       "      <td>-0.391652</td>\n",
       "    </tr>\n",
       "    <tr>\n",
       "      <th>4</th>\n",
       "      <td>0.839689</td>\n",
       "      <td>-0.607661</td>\n",
       "      <td>-1.103851</td>\n",
       "      <td>-1.052152</td>\n",
       "      <td>-0.330753</td>\n",
       "    </tr>\n",
       "    <tr>\n",
       "      <th>5</th>\n",
       "      <td>-0.918159</td>\n",
       "      <td>0.627899</td>\n",
       "      <td>-0.723198</td>\n",
       "      <td>0.058011</td>\n",
       "      <td>-1.905568</td>\n",
       "    </tr>\n",
       "    <tr>\n",
       "      <th>6</th>\n",
       "      <td>0.547232</td>\n",
       "      <td>0.636582</td>\n",
       "      <td>-0.606089</td>\n",
       "      <td>0.015971</td>\n",
       "      <td>-0.173667</td>\n",
       "    </tr>\n",
       "    <tr>\n",
       "      <th>7</th>\n",
       "      <td>0.073209</td>\n",
       "      <td>-1.082856</td>\n",
       "      <td>0.088587</td>\n",
       "      <td>0.955010</td>\n",
       "      <td>-0.326728</td>\n",
       "    </tr>\n",
       "    <tr>\n",
       "      <th>8</th>\n",
       "      <td>-0.637776</td>\n",
       "      <td>1.287508</td>\n",
       "      <td>-1.084357</td>\n",
       "      <td>0.337168</td>\n",
       "      <td>-0.048473</td>\n",
       "    </tr>\n",
       "    <tr>\n",
       "      <th>9</th>\n",
       "      <td>0.160806</td>\n",
       "      <td>-1.103212</td>\n",
       "      <td>0.395960</td>\n",
       "      <td>0.682649</td>\n",
       "      <td>0.007756</td>\n",
       "    </tr>\n",
       "    <tr>\n",
       "      <th>10</th>\n",
       "      <td>-0.881686</td>\n",
       "      <td>1.439291</td>\n",
       "      <td>1.355805</td>\n",
       "      <td>-0.835337</td>\n",
       "      <td>-0.575592</td>\n",
       "    </tr>\n",
       "    <tr>\n",
       "      <th>11</th>\n",
       "      <td>0.814197</td>\n",
       "      <td>-0.419451</td>\n",
       "      <td>-0.254045</td>\n",
       "      <td>-2.908291</td>\n",
       "      <td>-1.536884</td>\n",
       "    </tr>\n",
       "    <tr>\n",
       "      <th>12</th>\n",
       "      <td>1.785334</td>\n",
       "      <td>-0.132524</td>\n",
       "      <td>-1.916343</td>\n",
       "      <td>-0.347260</td>\n",
       "      <td>1.285854</td>\n",
       "    </tr>\n",
       "    <tr>\n",
       "      <th>13</th>\n",
       "      <td>0.900000</td>\n",
       "      <td>-0.118795</td>\n",
       "      <td>-1.282627</td>\n",
       "      <td>0.122190</td>\n",
       "      <td>-0.371621</td>\n",
       "    </tr>\n",
       "    <tr>\n",
       "      <th>14</th>\n",
       "      <td>1.953163</td>\n",
       "      <td>1.236179</td>\n",
       "      <td>0.626158</td>\n",
       "      <td>0.484401</td>\n",
       "      <td>0.373666</td>\n",
       "    </tr>\n",
       "    <tr>\n",
       "      <th>15</th>\n",
       "      <td>-0.044116</td>\n",
       "      <td>0.234738</td>\n",
       "      <td>0.286163</td>\n",
       "      <td>-0.778328</td>\n",
       "      <td>-0.902456</td>\n",
       "    </tr>\n",
       "    <tr>\n",
       "      <th>16</th>\n",
       "      <td>0.575705</td>\n",
       "      <td>-1.674600</td>\n",
       "      <td>-0.536878</td>\n",
       "      <td>0.774389</td>\n",
       "      <td>-0.115703</td>\n",
       "    </tr>\n",
       "    <tr>\n",
       "      <th>17</th>\n",
       "      <td>0.068725</td>\n",
       "      <td>-0.921336</td>\n",
       "      <td>0.747953</td>\n",
       "      <td>-0.532629</td>\n",
       "      <td>0.047280</td>\n",
       "    </tr>\n",
       "    <tr>\n",
       "      <th>18</th>\n",
       "      <td>0.341980</td>\n",
       "      <td>-1.552638</td>\n",
       "      <td>-0.302040</td>\n",
       "      <td>0.219411</td>\n",
       "      <td>0.782214</td>\n",
       "    </tr>\n",
       "    <tr>\n",
       "      <th>19</th>\n",
       "      <td>-1.119679</td>\n",
       "      <td>0.964613</td>\n",
       "      <td>-0.477129</td>\n",
       "      <td>-1.115930</td>\n",
       "      <td>2.446084</td>\n",
       "    </tr>\n",
       "    <tr>\n",
       "      <th>20</th>\n",
       "      <td>2.787945</td>\n",
       "      <td>-0.905463</td>\n",
       "      <td>1.818784</td>\n",
       "      <td>-1.100037</td>\n",
       "      <td>0.485111</td>\n",
       "    </tr>\n",
       "    <tr>\n",
       "      <th>21</th>\n",
       "      <td>0.679093</td>\n",
       "      <td>-0.055685</td>\n",
       "      <td>-1.720829</td>\n",
       "      <td>-0.927669</td>\n",
       "      <td>0.881344</td>\n",
       "    </tr>\n",
       "    <tr>\n",
       "      <th>22</th>\n",
       "      <td>-1.399305</td>\n",
       "      <td>-2.303131</td>\n",
       "      <td>1.529345</td>\n",
       "      <td>-0.755063</td>\n",
       "      <td>-0.441381</td>\n",
       "    </tr>\n",
       "    <tr>\n",
       "      <th>23</th>\n",
       "      <td>0.780633</td>\n",
       "      <td>1.927478</td>\n",
       "      <td>1.482335</td>\n",
       "      <td>-0.194348</td>\n",
       "      <td>-0.278680</td>\n",
       "    </tr>\n",
       "    <tr>\n",
       "      <th>24</th>\n",
       "      <td>-1.112519</td>\n",
       "      <td>0.230815</td>\n",
       "      <td>0.032714</td>\n",
       "      <td>-0.760454</td>\n",
       "      <td>0.473183</td>\n",
       "    </tr>\n",
       "    <tr>\n",
       "      <th>25</th>\n",
       "      <td>1.256979</td>\n",
       "      <td>-1.511484</td>\n",
       "      <td>0.210897</td>\n",
       "      <td>-0.208676</td>\n",
       "      <td>0.148815</td>\n",
       "    </tr>\n",
       "    <tr>\n",
       "      <th>26</th>\n",
       "      <td>1.437207</td>\n",
       "      <td>-0.897865</td>\n",
       "      <td>-0.463912</td>\n",
       "      <td>-0.504610</td>\n",
       "      <td>0.108515</td>\n",
       "    </tr>\n",
       "    <tr>\n",
       "      <th>27</th>\n",
       "      <td>0.803457</td>\n",
       "      <td>0.473945</td>\n",
       "      <td>-0.047842</td>\n",
       "      <td>0.610701</td>\n",
       "      <td>-0.397476</td>\n",
       "    </tr>\n",
       "    <tr>\n",
       "      <th>28</th>\n",
       "      <td>1.230269</td>\n",
       "      <td>0.167660</td>\n",
       "      <td>-0.959065</td>\n",
       "      <td>0.248476</td>\n",
       "      <td>-0.433044</td>\n",
       "    </tr>\n",
       "    <tr>\n",
       "      <th>29</th>\n",
       "      <td>1.210047</td>\n",
       "      <td>0.490430</td>\n",
       "      <td>0.030130</td>\n",
       "      <td>0.295216</td>\n",
       "      <td>0.096663</td>\n",
       "    </tr>\n",
       "    <tr>\n",
       "      <th>...</th>\n",
       "      <td>...</td>\n",
       "      <td>...</td>\n",
       "      <td>...</td>\n",
       "      <td>...</td>\n",
       "      <td>...</td>\n",
       "    </tr>\n",
       "    <tr>\n",
       "      <th>970</th>\n",
       "      <td>-0.033874</td>\n",
       "      <td>-0.335310</td>\n",
       "      <td>0.250082</td>\n",
       "      <td>1.841742</td>\n",
       "      <td>-0.761475</td>\n",
       "    </tr>\n",
       "    <tr>\n",
       "      <th>971</th>\n",
       "      <td>1.404868</td>\n",
       "      <td>0.254996</td>\n",
       "      <td>-0.744826</td>\n",
       "      <td>-0.681829</td>\n",
       "      <td>1.147888</td>\n",
       "    </tr>\n",
       "    <tr>\n",
       "      <th>972</th>\n",
       "      <td>0.654086</td>\n",
       "      <td>0.225178</td>\n",
       "      <td>-0.890453</td>\n",
       "      <td>0.922901</td>\n",
       "      <td>-0.765225</td>\n",
       "    </tr>\n",
       "    <tr>\n",
       "      <th>973</th>\n",
       "      <td>-1.352781</td>\n",
       "      <td>0.139779</td>\n",
       "      <td>1.133228</td>\n",
       "      <td>0.787169</td>\n",
       "      <td>-0.401044</td>\n",
       "    </tr>\n",
       "    <tr>\n",
       "      <th>974</th>\n",
       "      <td>-0.278799</td>\n",
       "      <td>-0.944609</td>\n",
       "      <td>0.862917</td>\n",
       "      <td>0.681630</td>\n",
       "      <td>-1.353438</td>\n",
       "    </tr>\n",
       "    <tr>\n",
       "      <th>975</th>\n",
       "      <td>1.104149</td>\n",
       "      <td>-0.505815</td>\n",
       "      <td>2.883128</td>\n",
       "      <td>0.796008</td>\n",
       "      <td>0.290432</td>\n",
       "    </tr>\n",
       "    <tr>\n",
       "      <th>976</th>\n",
       "      <td>1.184102</td>\n",
       "      <td>0.320527</td>\n",
       "      <td>-0.164524</td>\n",
       "      <td>0.942740</td>\n",
       "      <td>1.974350</td>\n",
       "    </tr>\n",
       "    <tr>\n",
       "      <th>977</th>\n",
       "      <td>0.511352</td>\n",
       "      <td>0.757230</td>\n",
       "      <td>1.460495</td>\n",
       "      <td>0.242728</td>\n",
       "      <td>-0.672568</td>\n",
       "    </tr>\n",
       "    <tr>\n",
       "      <th>978</th>\n",
       "      <td>0.248466</td>\n",
       "      <td>0.050655</td>\n",
       "      <td>0.818914</td>\n",
       "      <td>-0.960655</td>\n",
       "      <td>-0.300611</td>\n",
       "    </tr>\n",
       "    <tr>\n",
       "      <th>979</th>\n",
       "      <td>-0.138594</td>\n",
       "      <td>-1.874230</td>\n",
       "      <td>0.836114</td>\n",
       "      <td>0.758459</td>\n",
       "      <td>0.757710</td>\n",
       "    </tr>\n",
       "    <tr>\n",
       "      <th>980</th>\n",
       "      <td>0.039340</td>\n",
       "      <td>-1.654878</td>\n",
       "      <td>1.171132</td>\n",
       "      <td>-1.760424</td>\n",
       "      <td>0.461319</td>\n",
       "    </tr>\n",
       "    <tr>\n",
       "      <th>981</th>\n",
       "      <td>0.103162</td>\n",
       "      <td>0.274422</td>\n",
       "      <td>-1.364635</td>\n",
       "      <td>-0.257082</td>\n",
       "      <td>-0.032157</td>\n",
       "    </tr>\n",
       "    <tr>\n",
       "      <th>982</th>\n",
       "      <td>-0.654871</td>\n",
       "      <td>0.668535</td>\n",
       "      <td>1.594611</td>\n",
       "      <td>-1.302048</td>\n",
       "      <td>-1.011341</td>\n",
       "    </tr>\n",
       "    <tr>\n",
       "      <th>983</th>\n",
       "      <td>0.609800</td>\n",
       "      <td>1.332175</td>\n",
       "      <td>-0.336398</td>\n",
       "      <td>0.487017</td>\n",
       "      <td>0.525715</td>\n",
       "    </tr>\n",
       "    <tr>\n",
       "      <th>984</th>\n",
       "      <td>0.401751</td>\n",
       "      <td>-0.369920</td>\n",
       "      <td>0.196508</td>\n",
       "      <td>0.383792</td>\n",
       "      <td>-0.206900</td>\n",
       "    </tr>\n",
       "    <tr>\n",
       "      <th>985</th>\n",
       "      <td>-0.983105</td>\n",
       "      <td>1.585395</td>\n",
       "      <td>1.393683</td>\n",
       "      <td>0.829363</td>\n",
       "      <td>-0.620322</td>\n",
       "    </tr>\n",
       "    <tr>\n",
       "      <th>986</th>\n",
       "      <td>-1.977382</td>\n",
       "      <td>2.090467</td>\n",
       "      <td>-0.446868</td>\n",
       "      <td>0.502355</td>\n",
       "      <td>0.229899</td>\n",
       "    </tr>\n",
       "    <tr>\n",
       "      <th>987</th>\n",
       "      <td>-0.359385</td>\n",
       "      <td>0.009869</td>\n",
       "      <td>0.464986</td>\n",
       "      <td>0.622314</td>\n",
       "      <td>1.395406</td>\n",
       "    </tr>\n",
       "    <tr>\n",
       "      <th>988</th>\n",
       "      <td>1.792520</td>\n",
       "      <td>-0.646912</td>\n",
       "      <td>-0.190039</td>\n",
       "      <td>0.374980</td>\n",
       "      <td>-1.193871</td>\n",
       "    </tr>\n",
       "    <tr>\n",
       "      <th>989</th>\n",
       "      <td>-0.936576</td>\n",
       "      <td>0.444408</td>\n",
       "      <td>0.857597</td>\n",
       "      <td>0.445155</td>\n",
       "      <td>0.797230</td>\n",
       "    </tr>\n",
       "    <tr>\n",
       "      <th>990</th>\n",
       "      <td>-1.200092</td>\n",
       "      <td>-2.116998</td>\n",
       "      <td>1.831853</td>\n",
       "      <td>-0.974904</td>\n",
       "      <td>0.855328</td>\n",
       "    </tr>\n",
       "    <tr>\n",
       "      <th>991</th>\n",
       "      <td>0.941492</td>\n",
       "      <td>1.993280</td>\n",
       "      <td>-0.686390</td>\n",
       "      <td>1.099912</td>\n",
       "      <td>0.085689</td>\n",
       "    </tr>\n",
       "    <tr>\n",
       "      <th>992</th>\n",
       "      <td>0.356341</td>\n",
       "      <td>0.586533</td>\n",
       "      <td>0.512602</td>\n",
       "      <td>-0.505135</td>\n",
       "      <td>-0.282229</td>\n",
       "    </tr>\n",
       "    <tr>\n",
       "      <th>993</th>\n",
       "      <td>0.038051</td>\n",
       "      <td>0.117200</td>\n",
       "      <td>-1.233234</td>\n",
       "      <td>1.069487</td>\n",
       "      <td>-0.601049</td>\n",
       "    </tr>\n",
       "    <tr>\n",
       "      <th>994</th>\n",
       "      <td>0.071037</td>\n",
       "      <td>0.473603</td>\n",
       "      <td>-1.313285</td>\n",
       "      <td>0.457724</td>\n",
       "      <td>1.148640</td>\n",
       "    </tr>\n",
       "    <tr>\n",
       "      <th>995</th>\n",
       "      <td>0.499625</td>\n",
       "      <td>1.610340</td>\n",
       "      <td>-0.535801</td>\n",
       "      <td>-0.332298</td>\n",
       "      <td>-0.103282</td>\n",
       "    </tr>\n",
       "    <tr>\n",
       "      <th>996</th>\n",
       "      <td>1.283662</td>\n",
       "      <td>0.004888</td>\n",
       "      <td>0.448579</td>\n",
       "      <td>1.435276</td>\n",
       "      <td>3.557577</td>\n",
       "    </tr>\n",
       "    <tr>\n",
       "      <th>997</th>\n",
       "      <td>-1.447017</td>\n",
       "      <td>0.257152</td>\n",
       "      <td>0.123845</td>\n",
       "      <td>1.713353</td>\n",
       "      <td>0.434648</td>\n",
       "    </tr>\n",
       "    <tr>\n",
       "      <th>998</th>\n",
       "      <td>0.597998</td>\n",
       "      <td>1.338898</td>\n",
       "      <td>-1.118597</td>\n",
       "      <td>1.560326</td>\n",
       "      <td>1.691735</td>\n",
       "    </tr>\n",
       "    <tr>\n",
       "      <th>999</th>\n",
       "      <td>-0.088327</td>\n",
       "      <td>0.977294</td>\n",
       "      <td>-0.691379</td>\n",
       "      <td>0.514268</td>\n",
       "      <td>0.654114</td>\n",
       "    </tr>\n",
       "  </tbody>\n",
       "</table>\n",
       "<p>1000 rows × 5 columns</p>\n",
       "</div>"
      ],
      "text/plain": [
       "            a         b         c         d         e\n",
       "0   -1.496943  0.510324  0.472530 -2.222844  0.096246\n",
       "1   -0.199620  1.589933 -1.708555 -0.076118 -0.199592\n",
       "2    1.793419 -0.632236 -1.404145 -1.213746  0.298757\n",
       "3    0.819102 -1.256702  1.363871 -1.100079 -0.391652\n",
       "4    0.839689 -0.607661 -1.103851 -1.052152 -0.330753\n",
       "5   -0.918159  0.627899 -0.723198  0.058011 -1.905568\n",
       "6    0.547232  0.636582 -0.606089  0.015971 -0.173667\n",
       "7    0.073209 -1.082856  0.088587  0.955010 -0.326728\n",
       "8   -0.637776  1.287508 -1.084357  0.337168 -0.048473\n",
       "9    0.160806 -1.103212  0.395960  0.682649  0.007756\n",
       "10  -0.881686  1.439291  1.355805 -0.835337 -0.575592\n",
       "11   0.814197 -0.419451 -0.254045 -2.908291 -1.536884\n",
       "12   1.785334 -0.132524 -1.916343 -0.347260  1.285854\n",
       "13   0.900000 -0.118795 -1.282627  0.122190 -0.371621\n",
       "14   1.953163  1.236179  0.626158  0.484401  0.373666\n",
       "15  -0.044116  0.234738  0.286163 -0.778328 -0.902456\n",
       "16   0.575705 -1.674600 -0.536878  0.774389 -0.115703\n",
       "17   0.068725 -0.921336  0.747953 -0.532629  0.047280\n",
       "18   0.341980 -1.552638 -0.302040  0.219411  0.782214\n",
       "19  -1.119679  0.964613 -0.477129 -1.115930  2.446084\n",
       "20   2.787945 -0.905463  1.818784 -1.100037  0.485111\n",
       "21   0.679093 -0.055685 -1.720829 -0.927669  0.881344\n",
       "22  -1.399305 -2.303131  1.529345 -0.755063 -0.441381\n",
       "23   0.780633  1.927478  1.482335 -0.194348 -0.278680\n",
       "24  -1.112519  0.230815  0.032714 -0.760454  0.473183\n",
       "25   1.256979 -1.511484  0.210897 -0.208676  0.148815\n",
       "26   1.437207 -0.897865 -0.463912 -0.504610  0.108515\n",
       "27   0.803457  0.473945 -0.047842  0.610701 -0.397476\n",
       "28   1.230269  0.167660 -0.959065  0.248476 -0.433044\n",
       "29   1.210047  0.490430  0.030130  0.295216  0.096663\n",
       "..        ...       ...       ...       ...       ...\n",
       "970 -0.033874 -0.335310  0.250082  1.841742 -0.761475\n",
       "971  1.404868  0.254996 -0.744826 -0.681829  1.147888\n",
       "972  0.654086  0.225178 -0.890453  0.922901 -0.765225\n",
       "973 -1.352781  0.139779  1.133228  0.787169 -0.401044\n",
       "974 -0.278799 -0.944609  0.862917  0.681630 -1.353438\n",
       "975  1.104149 -0.505815  2.883128  0.796008  0.290432\n",
       "976  1.184102  0.320527 -0.164524  0.942740  1.974350\n",
       "977  0.511352  0.757230  1.460495  0.242728 -0.672568\n",
       "978  0.248466  0.050655  0.818914 -0.960655 -0.300611\n",
       "979 -0.138594 -1.874230  0.836114  0.758459  0.757710\n",
       "980  0.039340 -1.654878  1.171132 -1.760424  0.461319\n",
       "981  0.103162  0.274422 -1.364635 -0.257082 -0.032157\n",
       "982 -0.654871  0.668535  1.594611 -1.302048 -1.011341\n",
       "983  0.609800  1.332175 -0.336398  0.487017  0.525715\n",
       "984  0.401751 -0.369920  0.196508  0.383792 -0.206900\n",
       "985 -0.983105  1.585395  1.393683  0.829363 -0.620322\n",
       "986 -1.977382  2.090467 -0.446868  0.502355  0.229899\n",
       "987 -0.359385  0.009869  0.464986  0.622314  1.395406\n",
       "988  1.792520 -0.646912 -0.190039  0.374980 -1.193871\n",
       "989 -0.936576  0.444408  0.857597  0.445155  0.797230\n",
       "990 -1.200092 -2.116998  1.831853 -0.974904  0.855328\n",
       "991  0.941492  1.993280 -0.686390  1.099912  0.085689\n",
       "992  0.356341  0.586533  0.512602 -0.505135 -0.282229\n",
       "993  0.038051  0.117200 -1.233234  1.069487 -0.601049\n",
       "994  0.071037  0.473603 -1.313285  0.457724  1.148640\n",
       "995  0.499625  1.610340 -0.535801 -0.332298 -0.103282\n",
       "996  1.283662  0.004888  0.448579  1.435276  3.557577\n",
       "997 -1.447017  0.257152  0.123845  1.713353  0.434648\n",
       "998  0.597998  1.338898 -1.118597  1.560326  1.691735\n",
       "999 -0.088327  0.977294 -0.691379  0.514268  0.654114\n",
       "\n",
       "[1000 rows x 5 columns]"
      ]
     },
     "execution_count": 9,
     "metadata": {},
     "output_type": "execute_result"
    }
   ],
   "source": [
    "frame"
   ]
  },
  {
   "cell_type": "code",
   "execution_count": 10,
   "metadata": {
    "hidden": true
   },
   "outputs": [
    {
     "data": {
      "text/html": [
       "<div>\n",
       "<style scoped>\n",
       "    .dataframe tbody tr th:only-of-type {\n",
       "        vertical-align: middle;\n",
       "    }\n",
       "\n",
       "    .dataframe tbody tr th {\n",
       "        vertical-align: top;\n",
       "    }\n",
       "\n",
       "    .dataframe thead th {\n",
       "        text-align: right;\n",
       "    }\n",
       "</style>\n",
       "<table border=\"1\" class=\"dataframe\">\n",
       "  <thead>\n",
       "    <tr style=\"text-align: right;\">\n",
       "      <th></th>\n",
       "      <th>a</th>\n",
       "      <th>b</th>\n",
       "      <th>c</th>\n",
       "      <th>d</th>\n",
       "      <th>e</th>\n",
       "    </tr>\n",
       "  </thead>\n",
       "  <tbody>\n",
       "    <tr>\n",
       "      <th>a</th>\n",
       "      <td>0.985936</td>\n",
       "      <td>0.016189</td>\n",
       "      <td>-0.028208</td>\n",
       "      <td>0.021998</td>\n",
       "      <td>0.039883</td>\n",
       "    </tr>\n",
       "    <tr>\n",
       "      <th>b</th>\n",
       "      <td>0.016189</td>\n",
       "      <td>0.950217</td>\n",
       "      <td>-0.031694</td>\n",
       "      <td>0.039939</td>\n",
       "      <td>0.032277</td>\n",
       "    </tr>\n",
       "    <tr>\n",
       "      <th>c</th>\n",
       "      <td>-0.028208</td>\n",
       "      <td>-0.031694</td>\n",
       "      <td>0.947895</td>\n",
       "      <td>0.037010</td>\n",
       "      <td>0.000119</td>\n",
       "    </tr>\n",
       "    <tr>\n",
       "      <th>d</th>\n",
       "      <td>0.021998</td>\n",
       "      <td>0.039939</td>\n",
       "      <td>0.037010</td>\n",
       "      <td>1.011245</td>\n",
       "      <td>0.028309</td>\n",
       "    </tr>\n",
       "    <tr>\n",
       "      <th>e</th>\n",
       "      <td>0.039883</td>\n",
       "      <td>0.032277</td>\n",
       "      <td>0.000119</td>\n",
       "      <td>0.028309</td>\n",
       "      <td>1.004551</td>\n",
       "    </tr>\n",
       "  </tbody>\n",
       "</table>\n",
       "</div>"
      ],
      "text/plain": [
       "          a         b         c         d         e\n",
       "a  0.985936  0.016189 -0.028208  0.021998  0.039883\n",
       "b  0.016189  0.950217 -0.031694  0.039939  0.032277\n",
       "c -0.028208 -0.031694  0.947895  0.037010  0.000119\n",
       "d  0.021998  0.039939  0.037010  1.011245  0.028309\n",
       "e  0.039883  0.032277  0.000119  0.028309  1.004551"
      ]
     },
     "execution_count": 10,
     "metadata": {},
     "output_type": "execute_result"
    }
   ],
   "source": [
    "frame.cov()"
   ]
  },
  {
   "cell_type": "markdown",
   "metadata": {
    "heading_collapsed": true,
    "hidden": true
   },
   "source": [
    "### Correlation"
   ]
  },
  {
   "cell_type": "code",
   "execution_count": 11,
   "metadata": {
    "hidden": true
   },
   "outputs": [
    {
     "data": {
      "text/html": [
       "<div>\n",
       "<style scoped>\n",
       "    .dataframe tbody tr th:only-of-type {\n",
       "        vertical-align: middle;\n",
       "    }\n",
       "\n",
       "    .dataframe tbody tr th {\n",
       "        vertical-align: top;\n",
       "    }\n",
       "\n",
       "    .dataframe thead th {\n",
       "        text-align: right;\n",
       "    }\n",
       "</style>\n",
       "<table border=\"1\" class=\"dataframe\">\n",
       "  <thead>\n",
       "    <tr style=\"text-align: right;\">\n",
       "      <th></th>\n",
       "      <th>a</th>\n",
       "      <th>b</th>\n",
       "      <th>c</th>\n",
       "      <th>d</th>\n",
       "      <th>e</th>\n",
       "    </tr>\n",
       "  </thead>\n",
       "  <tbody>\n",
       "    <tr>\n",
       "      <th>a</th>\n",
       "      <td>1.000000</td>\n",
       "      <td>0.001725</td>\n",
       "      <td>-0.014899</td>\n",
       "      <td>-0.008496</td>\n",
       "      <td>-0.038651</td>\n",
       "    </tr>\n",
       "    <tr>\n",
       "      <th>b</th>\n",
       "      <td>0.001725</td>\n",
       "      <td>1.000000</td>\n",
       "      <td>-0.008715</td>\n",
       "      <td>-0.029566</td>\n",
       "      <td>0.050061</td>\n",
       "    </tr>\n",
       "    <tr>\n",
       "      <th>c</th>\n",
       "      <td>-0.014899</td>\n",
       "      <td>-0.008715</td>\n",
       "      <td>1.000000</td>\n",
       "      <td>-0.016886</td>\n",
       "      <td>-0.043977</td>\n",
       "    </tr>\n",
       "    <tr>\n",
       "      <th>d</th>\n",
       "      <td>-0.008496</td>\n",
       "      <td>-0.029566</td>\n",
       "      <td>-0.016886</td>\n",
       "      <td>1.000000</td>\n",
       "      <td>-0.003904</td>\n",
       "    </tr>\n",
       "    <tr>\n",
       "      <th>e</th>\n",
       "      <td>-0.038651</td>\n",
       "      <td>0.050061</td>\n",
       "      <td>-0.043977</td>\n",
       "      <td>-0.003904</td>\n",
       "      <td>1.000000</td>\n",
       "    </tr>\n",
       "  </tbody>\n",
       "</table>\n",
       "</div>"
      ],
      "text/plain": [
       "          a         b         c         d         e\n",
       "a  1.000000  0.001725 -0.014899 -0.008496 -0.038651\n",
       "b  0.001725  1.000000 -0.008715 -0.029566  0.050061\n",
       "c -0.014899 -0.008715  1.000000 -0.016886 -0.043977\n",
       "d -0.008496 -0.029566 -0.016886  1.000000 -0.003904\n",
       "e -0.038651  0.050061 -0.043977 -0.003904  1.000000"
      ]
     },
     "execution_count": 11,
     "metadata": {},
     "output_type": "execute_result"
    }
   ],
   "source": [
    "frame = pd.DataFrame(np.random.randn(1000, 5), columns=['a', 'b', 'c', 'd', 'e'])\n",
    "frame.corr() # Pairwise correlation of DataFrame columns"
   ]
  },
  {
   "cell_type": "markdown",
   "metadata": {
    "heading_collapsed": true,
    "hidden": true
   },
   "source": [
    "### Data ranking"
   ]
  },
  {
   "cell_type": "code",
   "execution_count": 12,
   "metadata": {
    "hidden": true
   },
   "outputs": [
    {
     "data": {
      "text/plain": [
       "a   -0.948360\n",
       "b   -1.604526\n",
       "c    0.471786\n",
       "d    0.889733\n",
       "e    0.428979\n",
       "dtype: float64"
      ]
     },
     "execution_count": 12,
     "metadata": {},
     "output_type": "execute_result"
    }
   ],
   "source": [
    "s = pd.Series(np.random.np.random.randn(5), index=list('abcde'))\n",
    "s"
   ]
  },
  {
   "cell_type": "code",
   "execution_count": 13,
   "metadata": {
    "hidden": true
   },
   "outputs": [],
   "source": [
    "s['d'] = s['b'] # so there's a tie"
   ]
  },
  {
   "cell_type": "code",
   "execution_count": 14,
   "metadata": {
    "hidden": true
   },
   "outputs": [
    {
     "data": {
      "text/plain": [
       "a   -0.948360\n",
       "b   -1.604526\n",
       "c    0.471786\n",
       "d   -1.604526\n",
       "e    0.428979\n",
       "dtype: float64"
      ]
     },
     "execution_count": 14,
     "metadata": {},
     "output_type": "execute_result"
    }
   ],
   "source": [
    "s"
   ]
  },
  {
   "cell_type": "code",
   "execution_count": 15,
   "metadata": {
    "hidden": true
   },
   "outputs": [
    {
     "data": {
      "text/plain": [
       "a    3.0\n",
       "b    1.5\n",
       "c    5.0\n",
       "d    1.5\n",
       "e    4.0\n",
       "dtype: float64"
      ]
     },
     "execution_count": 15,
     "metadata": {},
     "output_type": "execute_result"
    }
   ],
   "source": [
    "s.rank()"
   ]
  },
  {
   "cell_type": "markdown",
   "metadata": {
    "heading_collapsed": true
   },
   "source": [
    "## Moving (rolling) statistics / moments"
   ]
  },
  {
   "cell_type": "code",
   "execution_count": 16,
   "metadata": {
    "hidden": true
   },
   "outputs": [],
   "source": [
    "ts = pd.Series(np.random.randn(1000), index=pd.date_range('1/1/2000', periods=1000))"
   ]
  },
  {
   "cell_type": "code",
   "execution_count": 17,
   "metadata": {
    "hidden": true
   },
   "outputs": [],
   "source": [
    "ts = ts.cumsum()"
   ]
  },
  {
   "cell_type": "code",
   "execution_count": 20,
   "metadata": {
    "hidden": true
   },
   "outputs": [
    {
     "data": {
      "image/png": "[encoded data removed]",
      "text/plain": [
       "<matplotlib.figure.Figure at 0x117ae3470>"
      ]
     },
     "metadata": {},
     "output_type": "display_data"
    }
   ],
   "source": [
    "%matplotlib inline\n",
    "ts.plot(style='k--')\n",
    "ts.rolling(window=60,center=False).mean().plot();"
   ]
  },
  {
   "cell_type": "code",
   "execution_count": 22,
   "metadata": {
    "hidden": true
   },
   "outputs": [
    {
     "data": {
      "image/png": "[encoded data removed]",
      "text/plain": [
       "<matplotlib.figure.Figure at 0x11824f7f0>"
      ]
     },
     "metadata": {},
     "output_type": "display_data"
    }
   ],
   "source": [
    "df = pd.DataFrame(np.random.randn(1000, 4), index=ts.index,\n",
    "                  columns=['A', 'B', 'C', 'D'])\n",
    "df = df.cumsum()\n",
    "df.rolling(window=60, center=False).sum().plot(subplots=True);"
   ]
  },
  {
   "cell_type": "markdown",
   "metadata": {},
   "source": [
    "# Working with missing data"
   ]
  },
  {
   "cell_type": "markdown",
   "metadata": {
    "collapsed": true
   },
   "source": [
    "## Missing data basics\n"
   ]
  },
  {
   "cell_type": "markdown",
   "metadata": {},
   "source": [
    "### When / why does data become missing?\n"
   ]
  },
  {
   "cell_type": "code",
   "execution_count": 23,
   "metadata": {},
   "outputs": [],
   "source": [
    "df = pd.DataFrame(np.random.randn(5, 3), index=['a', 'c', 'e', 'f', 'h'],\n",
    "                  columns=['one', 'two', 'three'])"
   ]
  },
  {
   "cell_type": "code",
   "execution_count": 24,
   "metadata": {},
   "outputs": [
    {
     "data": {
      "text/html": [
       "<div>\n",
       "<style scoped>\n",
       "    .dataframe tbody tr th:only-of-type {\n",
       "        vertical-align: middle;\n",
       "    }\n",
       "\n",
       "    .dataframe tbody tr th {\n",
       "        vertical-align: top;\n",
       "    }\n",
       "\n",
       "    .dataframe thead th {\n",
       "        text-align: right;\n",
       "    }\n",
       "</style>\n",
       "<table border=\"1\" class=\"dataframe\">\n",
       "  <thead>\n",
       "    <tr style=\"text-align: right;\">\n",
       "      <th></th>\n",
       "      <th>one</th>\n",
       "      <th>two</th>\n",
       "      <th>three</th>\n",
       "    </tr>\n",
       "  </thead>\n",
       "  <tbody>\n",
       "    <tr>\n",
       "      <th>a</th>\n",
       "      <td>-0.041546</td>\n",
       "      <td>-1.578706</td>\n",
       "      <td>-1.770520</td>\n",
       "    </tr>\n",
       "    <tr>\n",
       "      <th>c</th>\n",
       "      <td>0.622898</td>\n",
       "      <td>-1.090870</td>\n",
       "      <td>0.751012</td>\n",
       "    </tr>\n",
       "    <tr>\n",
       "      <th>e</th>\n",
       "      <td>1.215417</td>\n",
       "      <td>0.073725</td>\n",
       "      <td>1.436257</td>\n",
       "    </tr>\n",
       "    <tr>\n",
       "      <th>f</th>\n",
       "      <td>0.623329</td>\n",
       "      <td>-0.574068</td>\n",
       "      <td>0.804822</td>\n",
       "    </tr>\n",
       "    <tr>\n",
       "      <th>h</th>\n",
       "      <td>-0.855614</td>\n",
       "      <td>2.622780</td>\n",
       "      <td>0.536059</td>\n",
       "    </tr>\n",
       "  </tbody>\n",
       "</table>\n",
       "</div>"
      ],
      "text/plain": [
       "        one       two     three\n",
       "a -0.041546 -1.578706 -1.770520\n",
       "c  0.622898 -1.090870  0.751012\n",
       "e  1.215417  0.073725  1.436257\n",
       "f  0.623329 -0.574068  0.804822\n",
       "h -0.855614  2.622780  0.536059"
      ]
     },
     "execution_count": 24,
     "metadata": {},
     "output_type": "execute_result"
    }
   ],
   "source": [
    "df"
   ]
  },
  {
   "cell_type": "code",
   "execution_count": 25,
   "metadata": {},
   "outputs": [],
   "source": [
    "df['four'] = 'bar'"
   ]
  },
  {
   "cell_type": "code",
   "execution_count": 26,
   "metadata": {},
   "outputs": [],
   "source": [
    "df['five'] = df['one'] > 0"
   ]
  },
  {
   "cell_type": "code",
   "execution_count": 27,
   "metadata": {},
   "outputs": [
    {
     "data": {
      "text/html": [
       "<div>\n",
       "<style scoped>\n",
       "    .dataframe tbody tr th:only-of-type {\n",
       "        vertical-align: middle;\n",
       "    }\n",
       "\n",
       "    .dataframe tbody tr th {\n",
       "        vertical-align: top;\n",
       "    }\n",
       "\n",
       "    .dataframe thead th {\n",
       "        text-align: right;\n",
       "    }\n",
       "</style>\n",
       "<table border=\"1\" class=\"dataframe\">\n",
       "  <thead>\n",
       "    <tr style=\"text-align: right;\">\n",
       "      <th></th>\n",
       "      <th>one</th>\n",
       "      <th>two</th>\n",
       "      <th>three</th>\n",
       "      <th>four</th>\n",
       "      <th>five</th>\n",
       "    </tr>\n",
       "  </thead>\n",
       "  <tbody>\n",
       "    <tr>\n",
       "      <th>a</th>\n",
       "      <td>-0.041546</td>\n",
       "      <td>-1.578706</td>\n",
       "      <td>-1.770520</td>\n",
       "      <td>bar</td>\n",
       "      <td>False</td>\n",
       "    </tr>\n",
       "    <tr>\n",
       "      <th>c</th>\n",
       "      <td>0.622898</td>\n",
       "      <td>-1.090870</td>\n",
       "      <td>0.751012</td>\n",
       "      <td>bar</td>\n",
       "      <td>True</td>\n",
       "    </tr>\n",
       "    <tr>\n",
       "      <th>e</th>\n",
       "      <td>1.215417</td>\n",
       "      <td>0.073725</td>\n",
       "      <td>1.436257</td>\n",
       "      <td>bar</td>\n",
       "      <td>True</td>\n",
       "    </tr>\n",
       "    <tr>\n",
       "      <th>f</th>\n",
       "      <td>0.623329</td>\n",
       "      <td>-0.574068</td>\n",
       "      <td>0.804822</td>\n",
       "      <td>bar</td>\n",
       "      <td>True</td>\n",
       "    </tr>\n",
       "    <tr>\n",
       "      <th>h</th>\n",
       "      <td>-0.855614</td>\n",
       "      <td>2.622780</td>\n",
       "      <td>0.536059</td>\n",
       "      <td>bar</td>\n",
       "      <td>False</td>\n",
       "    </tr>\n",
       "  </tbody>\n",
       "</table>\n",
       "</div>"
      ],
      "text/plain": [
       "        one       two     three four   five\n",
       "a -0.041546 -1.578706 -1.770520  bar  False\n",
       "c  0.622898 -1.090870  0.751012  bar   True\n",
       "e  1.215417  0.073725  1.436257  bar   True\n",
       "f  0.623329 -0.574068  0.804822  bar   True\n",
       "h -0.855614  2.622780  0.536059  bar  False"
      ]
     },
     "execution_count": 27,
     "metadata": {},
     "output_type": "execute_result"
    }
   ],
   "source": [
    "df"
   ]
  },
  {
   "cell_type": "code",
   "execution_count": 28,
   "metadata": {},
   "outputs": [],
   "source": [
    "df2 = df.reindex(['a', 'b', 'c', 'd', 'e', 'f', 'g', 'h'])"
   ]
  },
  {
   "cell_type": "code",
   "execution_count": 29,
   "metadata": {},
   "outputs": [
    {
     "data": {
      "text/html": [
       "<div>\n",
       "<style scoped>\n",
       "    .dataframe tbody tr th:only-of-type {\n",
       "        vertical-align: middle;\n",
       "    }\n",
       "\n",
       "    .dataframe tbody tr th {\n",
       "        vertical-align: top;\n",
       "    }\n",
       "\n",
       "    .dataframe thead th {\n",
       "        text-align: right;\n",
       "    }\n",
       "</style>\n",
       "<table border=\"1\" class=\"dataframe\">\n",
       "  <thead>\n",
       "    <tr style=\"text-align: right;\">\n",
       "      <th></th>\n",
       "      <th>one</th>\n",
       "      <th>two</th>\n",
       "      <th>three</th>\n",
       "      <th>four</th>\n",
       "      <th>five</th>\n",
       "    </tr>\n",
       "  </thead>\n",
       "  <tbody>\n",
       "    <tr>\n",
       "      <th>a</th>\n",
       "      <td>-0.041546</td>\n",
       "      <td>-1.578706</td>\n",
       "      <td>-1.770520</td>\n",
       "      <td>bar</td>\n",
       "      <td>False</td>\n",
       "    </tr>\n",
       "    <tr>\n",
       "      <th>b</th>\n",
       "      <td>NaN</td>\n",
       "      <td>NaN</td>\n",
       "      <td>NaN</td>\n",
       "      <td>NaN</td>\n",
       "      <td>NaN</td>\n",
       "    </tr>\n",
       "    <tr>\n",
       "      <th>c</th>\n",
       "      <td>0.622898</td>\n",
       "      <td>-1.090870</td>\n",
       "      <td>0.751012</td>\n",
       "      <td>bar</td>\n",
       "      <td>True</td>\n",
       "    </tr>\n",
       "    <tr>\n",
       "      <th>d</th>\n",
       "      <td>NaN</td>\n",
       "      <td>NaN</td>\n",
       "      <td>NaN</td>\n",
       "      <td>NaN</td>\n",
       "      <td>NaN</td>\n",
       "    </tr>\n",
       "    <tr>\n",
       "      <th>e</th>\n",
       "      <td>1.215417</td>\n",
       "      <td>0.073725</td>\n",
       "      <td>1.436257</td>\n",
       "      <td>bar</td>\n",
       "      <td>True</td>\n",
       "    </tr>\n",
       "    <tr>\n",
       "      <th>f</th>\n",
       "      <td>0.623329</td>\n",
       "      <td>-0.574068</td>\n",
       "      <td>0.804822</td>\n",
       "      <td>bar</td>\n",
       "      <td>True</td>\n",
       "    </tr>\n",
       "    <tr>\n",
       "      <th>g</th>\n",
       "      <td>NaN</td>\n",
       "      <td>NaN</td>\n",
       "      <td>NaN</td>\n",
       "      <td>NaN</td>\n",
       "      <td>NaN</td>\n",
       "    </tr>\n",
       "    <tr>\n",
       "      <th>h</th>\n",
       "      <td>-0.855614</td>\n",
       "      <td>2.622780</td>\n",
       "      <td>0.536059</td>\n",
       "      <td>bar</td>\n",
       "      <td>False</td>\n",
       "    </tr>\n",
       "  </tbody>\n",
       "</table>\n",
       "</div>"
      ],
      "text/plain": [
       "        one       two     three four   five\n",
       "a -0.041546 -1.578706 -1.770520  bar  False\n",
       "b       NaN       NaN       NaN  NaN    NaN\n",
       "c  0.622898 -1.090870  0.751012  bar   True\n",
       "d       NaN       NaN       NaN  NaN    NaN\n",
       "e  1.215417  0.073725  1.436257  bar   True\n",
       "f  0.623329 -0.574068  0.804822  bar   True\n",
       "g       NaN       NaN       NaN  NaN    NaN\n",
       "h -0.855614  2.622780  0.536059  bar  False"
      ]
     },
     "execution_count": 29,
     "metadata": {},
     "output_type": "execute_result"
    }
   ],
   "source": [
    "df2"
   ]
  },
  {
   "cell_type": "code",
   "execution_count": 30,
   "metadata": {},
   "outputs": [
    {
     "data": {
      "text/plain": [
       "a   -0.041546\n",
       "b         NaN\n",
       "c    0.622898\n",
       "d         NaN\n",
       "e    1.215417\n",
       "f    0.623329\n",
       "g         NaN\n",
       "h   -0.855614\n",
       "Name: one, dtype: float64"
      ]
     },
     "execution_count": 30,
     "metadata": {},
     "output_type": "execute_result"
    }
   ],
   "source": [
    "df2['one']"
   ]
  },
  {
   "cell_type": "code",
   "execution_count": 31,
   "metadata": {},
   "outputs": [
    {
     "data": {
      "text/plain": [
       "a    False\n",
       "b     True\n",
       "c    False\n",
       "d     True\n",
       "e    False\n",
       "f    False\n",
       "g     True\n",
       "h    False\n",
       "Name: one, dtype: bool"
      ]
     },
     "execution_count": 31,
     "metadata": {},
     "output_type": "execute_result"
    }
   ],
   "source": [
    "pd.isnull(df2['one'])"
   ]
  },
  {
   "cell_type": "code",
   "execution_count": 32,
   "metadata": {},
   "outputs": [
    {
     "data": {
      "text/plain": [
       "a     True\n",
       "b    False\n",
       "c     True\n",
       "d    False\n",
       "e     True\n",
       "f     True\n",
       "g    False\n",
       "h     True\n",
       "Name: four, dtype: bool"
      ]
     },
     "execution_count": 32,
     "metadata": {},
     "output_type": "execute_result"
    }
   ],
   "source": [
    "df2['four'].notnull()"
   ]
  },
  {
   "cell_type": "markdown",
   "metadata": {
    "heading_collapsed": true
   },
   "source": [
    "## Datetimes"
   ]
  },
  {
   "cell_type": "code",
   "execution_count": 33,
   "metadata": {
    "hidden": true
   },
   "outputs": [],
   "source": [
    "df2 = df.copy()"
   ]
  },
  {
   "cell_type": "code",
   "execution_count": 34,
   "metadata": {
    "hidden": true
   },
   "outputs": [
    {
     "data": {
      "text/html": [
       "<div>\n",
       "<style scoped>\n",
       "    .dataframe tbody tr th:only-of-type {\n",
       "        vertical-align: middle;\n",
       "    }\n",
       "\n",
       "    .dataframe tbody tr th {\n",
       "        vertical-align: top;\n",
       "    }\n",
       "\n",
       "    .dataframe thead th {\n",
       "        text-align: right;\n",
       "    }\n",
       "</style>\n",
       "<table border=\"1\" class=\"dataframe\">\n",
       "  <thead>\n",
       "    <tr style=\"text-align: right;\">\n",
       "      <th></th>\n",
       "      <th>one</th>\n",
       "      <th>two</th>\n",
       "      <th>three</th>\n",
       "      <th>four</th>\n",
       "      <th>five</th>\n",
       "      <th>timestamp</th>\n",
       "    </tr>\n",
       "  </thead>\n",
       "  <tbody>\n",
       "    <tr>\n",
       "      <th>a</th>\n",
       "      <td>-0.041546</td>\n",
       "      <td>-1.578706</td>\n",
       "      <td>-1.770520</td>\n",
       "      <td>bar</td>\n",
       "      <td>False</td>\n",
       "      <td>2012-01-01</td>\n",
       "    </tr>\n",
       "    <tr>\n",
       "      <th>c</th>\n",
       "      <td>0.622898</td>\n",
       "      <td>-1.090870</td>\n",
       "      <td>0.751012</td>\n",
       "      <td>bar</td>\n",
       "      <td>True</td>\n",
       "      <td>2012-01-01</td>\n",
       "    </tr>\n",
       "    <tr>\n",
       "      <th>e</th>\n",
       "      <td>1.215417</td>\n",
       "      <td>0.073725</td>\n",
       "      <td>1.436257</td>\n",
       "      <td>bar</td>\n",
       "      <td>True</td>\n",
       "      <td>2012-01-01</td>\n",
       "    </tr>\n",
       "    <tr>\n",
       "      <th>f</th>\n",
       "      <td>0.623329</td>\n",
       "      <td>-0.574068</td>\n",
       "      <td>0.804822</td>\n",
       "      <td>bar</td>\n",
       "      <td>True</td>\n",
       "      <td>2012-01-01</td>\n",
       "    </tr>\n",
       "    <tr>\n",
       "      <th>h</th>\n",
       "      <td>-0.855614</td>\n",
       "      <td>2.622780</td>\n",
       "      <td>0.536059</td>\n",
       "      <td>bar</td>\n",
       "      <td>False</td>\n",
       "      <td>2012-01-01</td>\n",
       "    </tr>\n",
       "  </tbody>\n",
       "</table>\n",
       "</div>"
      ],
      "text/plain": [
       "        one       two     three four   five  timestamp\n",
       "a -0.041546 -1.578706 -1.770520  bar  False 2012-01-01\n",
       "c  0.622898 -1.090870  0.751012  bar   True 2012-01-01\n",
       "e  1.215417  0.073725  1.436257  bar   True 2012-01-01\n",
       "f  0.623329 -0.574068  0.804822  bar   True 2012-01-01\n",
       "h -0.855614  2.622780  0.536059  bar  False 2012-01-01"
      ]
     },
     "execution_count": 34,
     "metadata": {},
     "output_type": "execute_result"
    }
   ],
   "source": [
    "df2['timestamp'] = pd.Timestamp('20120101')\n",
    "df2"
   ]
  },
  {
   "cell_type": "code",
   "execution_count": 36,
   "metadata": {
    "hidden": true
   },
   "outputs": [
    {
     "data": {
      "text/html": [
       "<div>\n",
       "<style scoped>\n",
       "    .dataframe tbody tr th:only-of-type {\n",
       "        vertical-align: middle;\n",
       "    }\n",
       "\n",
       "    .dataframe tbody tr th {\n",
       "        vertical-align: top;\n",
       "    }\n",
       "\n",
       "    .dataframe thead th {\n",
       "        text-align: right;\n",
       "    }\n",
       "</style>\n",
       "<table border=\"1\" class=\"dataframe\">\n",
       "  <thead>\n",
       "    <tr style=\"text-align: right;\">\n",
       "      <th></th>\n",
       "      <th>one</th>\n",
       "      <th>two</th>\n",
       "      <th>three</th>\n",
       "      <th>four</th>\n",
       "      <th>five</th>\n",
       "      <th>timestamp</th>\n",
       "    </tr>\n",
       "  </thead>\n",
       "  <tbody>\n",
       "    <tr>\n",
       "      <th>a</th>\n",
       "      <td>NaN</td>\n",
       "      <td>-1.578706</td>\n",
       "      <td>-1.770520</td>\n",
       "      <td>bar</td>\n",
       "      <td>False</td>\n",
       "      <td>NaT</td>\n",
       "    </tr>\n",
       "    <tr>\n",
       "      <th>c</th>\n",
       "      <td>NaN</td>\n",
       "      <td>-1.090870</td>\n",
       "      <td>0.751012</td>\n",
       "      <td>bar</td>\n",
       "      <td>True</td>\n",
       "      <td>NaT</td>\n",
       "    </tr>\n",
       "    <tr>\n",
       "      <th>e</th>\n",
       "      <td>1.215417</td>\n",
       "      <td>0.073725</td>\n",
       "      <td>1.436257</td>\n",
       "      <td>bar</td>\n",
       "      <td>True</td>\n",
       "      <td>2012-01-01</td>\n",
       "    </tr>\n",
       "    <tr>\n",
       "      <th>f</th>\n",
       "      <td>0.623329</td>\n",
       "      <td>-0.574068</td>\n",
       "      <td>0.804822</td>\n",
       "      <td>bar</td>\n",
       "      <td>True</td>\n",
       "      <td>2012-01-01</td>\n",
       "    </tr>\n",
       "    <tr>\n",
       "      <th>h</th>\n",
       "      <td>NaN</td>\n",
       "      <td>2.622780</td>\n",
       "      <td>0.536059</td>\n",
       "      <td>bar</td>\n",
       "      <td>False</td>\n",
       "      <td>NaT</td>\n",
       "    </tr>\n",
       "  </tbody>\n",
       "</table>\n",
       "</div>"
      ],
      "text/plain": [
       "        one       two     three four   five  timestamp\n",
       "a       NaN -1.578706 -1.770520  bar  False        NaT\n",
       "c       NaN -1.090870  0.751012  bar   True        NaT\n",
       "e  1.215417  0.073725  1.436257  bar   True 2012-01-01\n",
       "f  0.623329 -0.574068  0.804822  bar   True 2012-01-01\n",
       "h       NaN  2.622780  0.536059  bar  False        NaT"
      ]
     },
     "execution_count": 36,
     "metadata": {},
     "output_type": "execute_result"
    }
   ],
   "source": [
    "df2.loc[['a','c','h'],['one','timestamp']] = np.nan\n",
    "df2"
   ]
  },
  {
   "cell_type": "code",
   "execution_count": 37,
   "metadata": {
    "hidden": true
   },
   "outputs": [
    {
     "data": {
      "text/plain": [
       "bool              1\n",
       "datetime64[ns]    1\n",
       "float64           3\n",
       "object            1\n",
       "dtype: int64"
      ]
     },
     "execution_count": 37,
     "metadata": {},
     "output_type": "execute_result"
    }
   ],
   "source": [
    "df2.get_dtype_counts()"
   ]
  },
  {
   "cell_type": "markdown",
   "metadata": {
    "heading_collapsed": true
   },
   "source": [
    "## Cleaning / filling missing data"
   ]
  },
  {
   "cell_type": "markdown",
   "metadata": {
    "hidden": true
   },
   "source": [
    "\n",
    "### Filling missing values: fillna"
   ]
  },
  {
   "cell_type": "code",
   "execution_count": 38,
   "metadata": {
    "hidden": true
   },
   "outputs": [
    {
     "data": {
      "text/html": [
       "<div>\n",
       "<style scoped>\n",
       "    .dataframe tbody tr th:only-of-type {\n",
       "        vertical-align: middle;\n",
       "    }\n",
       "\n",
       "    .dataframe tbody tr th {\n",
       "        vertical-align: top;\n",
       "    }\n",
       "\n",
       "    .dataframe thead th {\n",
       "        text-align: right;\n",
       "    }\n",
       "</style>\n",
       "<table border=\"1\" class=\"dataframe\">\n",
       "  <thead>\n",
       "    <tr style=\"text-align: right;\">\n",
       "      <th></th>\n",
       "      <th>one</th>\n",
       "      <th>two</th>\n",
       "      <th>three</th>\n",
       "      <th>four</th>\n",
       "      <th>five</th>\n",
       "      <th>timestamp</th>\n",
       "    </tr>\n",
       "  </thead>\n",
       "  <tbody>\n",
       "    <tr>\n",
       "      <th>a</th>\n",
       "      <td>NaN</td>\n",
       "      <td>-1.578706</td>\n",
       "      <td>-1.770520</td>\n",
       "      <td>bar</td>\n",
       "      <td>False</td>\n",
       "      <td>NaT</td>\n",
       "    </tr>\n",
       "    <tr>\n",
       "      <th>c</th>\n",
       "      <td>NaN</td>\n",
       "      <td>-1.090870</td>\n",
       "      <td>0.751012</td>\n",
       "      <td>bar</td>\n",
       "      <td>True</td>\n",
       "      <td>NaT</td>\n",
       "    </tr>\n",
       "    <tr>\n",
       "      <th>e</th>\n",
       "      <td>1.215417</td>\n",
       "      <td>0.073725</td>\n",
       "      <td>1.436257</td>\n",
       "      <td>bar</td>\n",
       "      <td>True</td>\n",
       "      <td>2012-01-01</td>\n",
       "    </tr>\n",
       "    <tr>\n",
       "      <th>f</th>\n",
       "      <td>0.623329</td>\n",
       "      <td>-0.574068</td>\n",
       "      <td>0.804822</td>\n",
       "      <td>bar</td>\n",
       "      <td>True</td>\n",
       "      <td>2012-01-01</td>\n",
       "    </tr>\n",
       "    <tr>\n",
       "      <th>h</th>\n",
       "      <td>NaN</td>\n",
       "      <td>2.622780</td>\n",
       "      <td>0.536059</td>\n",
       "      <td>bar</td>\n",
       "      <td>False</td>\n",
       "      <td>NaT</td>\n",
       "    </tr>\n",
       "  </tbody>\n",
       "</table>\n",
       "</div>"
      ],
      "text/plain": [
       "        one       two     three four   five  timestamp\n",
       "a       NaN -1.578706 -1.770520  bar  False        NaT\n",
       "c       NaN -1.090870  0.751012  bar   True        NaT\n",
       "e  1.215417  0.073725  1.436257  bar   True 2012-01-01\n",
       "f  0.623329 -0.574068  0.804822  bar   True 2012-01-01\n",
       "h       NaN  2.622780  0.536059  bar  False        NaT"
      ]
     },
     "execution_count": 38,
     "metadata": {},
     "output_type": "execute_result"
    }
   ],
   "source": [
    "df2"
   ]
  },
  {
   "cell_type": "code",
   "execution_count": 39,
   "metadata": {
    "hidden": true
   },
   "outputs": [
    {
     "data": {
      "text/html": [
       "<div>\n",
       "<style scoped>\n",
       "    .dataframe tbody tr th:only-of-type {\n",
       "        vertical-align: middle;\n",
       "    }\n",
       "\n",
       "    .dataframe tbody tr th {\n",
       "        vertical-align: top;\n",
       "    }\n",
       "\n",
       "    .dataframe thead th {\n",
       "        text-align: right;\n",
       "    }\n",
       "</style>\n",
       "<table border=\"1\" class=\"dataframe\">\n",
       "  <thead>\n",
       "    <tr style=\"text-align: right;\">\n",
       "      <th></th>\n",
       "      <th>one</th>\n",
       "      <th>two</th>\n",
       "      <th>three</th>\n",
       "      <th>four</th>\n",
       "      <th>five</th>\n",
       "      <th>timestamp</th>\n",
       "    </tr>\n",
       "  </thead>\n",
       "  <tbody>\n",
       "    <tr>\n",
       "      <th>a</th>\n",
       "      <td>0.000000</td>\n",
       "      <td>-1.578706</td>\n",
       "      <td>-1.770520</td>\n",
       "      <td>bar</td>\n",
       "      <td>False</td>\n",
       "      <td>0</td>\n",
       "    </tr>\n",
       "    <tr>\n",
       "      <th>c</th>\n",
       "      <td>0.000000</td>\n",
       "      <td>-1.090870</td>\n",
       "      <td>0.751012</td>\n",
       "      <td>bar</td>\n",
       "      <td>True</td>\n",
       "      <td>0</td>\n",
       "    </tr>\n",
       "    <tr>\n",
       "      <th>e</th>\n",
       "      <td>1.215417</td>\n",
       "      <td>0.073725</td>\n",
       "      <td>1.436257</td>\n",
       "      <td>bar</td>\n",
       "      <td>True</td>\n",
       "      <td>2012-01-01 00:00:00</td>\n",
       "    </tr>\n",
       "    <tr>\n",
       "      <th>f</th>\n",
       "      <td>0.623329</td>\n",
       "      <td>-0.574068</td>\n",
       "      <td>0.804822</td>\n",
       "      <td>bar</td>\n",
       "      <td>True</td>\n",
       "      <td>2012-01-01 00:00:00</td>\n",
       "    </tr>\n",
       "    <tr>\n",
       "      <th>h</th>\n",
       "      <td>0.000000</td>\n",
       "      <td>2.622780</td>\n",
       "      <td>0.536059</td>\n",
       "      <td>bar</td>\n",
       "      <td>False</td>\n",
       "      <td>0</td>\n",
       "    </tr>\n",
       "  </tbody>\n",
       "</table>\n",
       "</div>"
      ],
      "text/plain": [
       "        one       two     three four   five            timestamp\n",
       "a  0.000000 -1.578706 -1.770520  bar  False                    0\n",
       "c  0.000000 -1.090870  0.751012  bar   True                    0\n",
       "e  1.215417  0.073725  1.436257  bar   True  2012-01-01 00:00:00\n",
       "f  0.623329 -0.574068  0.804822  bar   True  2012-01-01 00:00:00\n",
       "h  0.000000  2.622780  0.536059  bar  False                    0"
      ]
     },
     "execution_count": 39,
     "metadata": {},
     "output_type": "execute_result"
    }
   ],
   "source": [
    "df2.fillna(0)"
   ]
  },
  {
   "cell_type": "markdown",
   "metadata": {
    "hidden": true
   },
   "source": [
    "### Fill gaps forward or backward\n",
    "Using the same filling arguments as reindexing, we can propagate non-null values forward or backward:"
   ]
  },
  {
   "cell_type": "code",
   "execution_count": 40,
   "metadata": {
    "hidden": true
   },
   "outputs": [
    {
     "data": {
      "text/html": [
       "<div>\n",
       "<style scoped>\n",
       "    .dataframe tbody tr th:only-of-type {\n",
       "        vertical-align: middle;\n",
       "    }\n",
       "\n",
       "    .dataframe tbody tr th {\n",
       "        vertical-align: top;\n",
       "    }\n",
       "\n",
       "    .dataframe thead th {\n",
       "        text-align: right;\n",
       "    }\n",
       "</style>\n",
       "<table border=\"1\" class=\"dataframe\">\n",
       "  <thead>\n",
       "    <tr style=\"text-align: right;\">\n",
       "      <th></th>\n",
       "      <th>one</th>\n",
       "      <th>two</th>\n",
       "      <th>three</th>\n",
       "      <th>four</th>\n",
       "      <th>five</th>\n",
       "      <th>timestamp</th>\n",
       "    </tr>\n",
       "  </thead>\n",
       "  <tbody>\n",
       "    <tr>\n",
       "      <th>a</th>\n",
       "      <td>NaN</td>\n",
       "      <td>-1.578706</td>\n",
       "      <td>-1.770520</td>\n",
       "      <td>bar</td>\n",
       "      <td>False</td>\n",
       "      <td>NaT</td>\n",
       "    </tr>\n",
       "    <tr>\n",
       "      <th>c</th>\n",
       "      <td>NaN</td>\n",
       "      <td>-1.090870</td>\n",
       "      <td>0.751012</td>\n",
       "      <td>bar</td>\n",
       "      <td>True</td>\n",
       "      <td>NaT</td>\n",
       "    </tr>\n",
       "    <tr>\n",
       "      <th>e</th>\n",
       "      <td>1.215417</td>\n",
       "      <td>0.073725</td>\n",
       "      <td>1.436257</td>\n",
       "      <td>bar</td>\n",
       "      <td>True</td>\n",
       "      <td>2012-01-01</td>\n",
       "    </tr>\n",
       "    <tr>\n",
       "      <th>f</th>\n",
       "      <td>0.623329</td>\n",
       "      <td>-0.574068</td>\n",
       "      <td>0.804822</td>\n",
       "      <td>bar</td>\n",
       "      <td>True</td>\n",
       "      <td>2012-01-01</td>\n",
       "    </tr>\n",
       "    <tr>\n",
       "      <th>h</th>\n",
       "      <td>NaN</td>\n",
       "      <td>2.622780</td>\n",
       "      <td>0.536059</td>\n",
       "      <td>bar</td>\n",
       "      <td>False</td>\n",
       "      <td>NaT</td>\n",
       "    </tr>\n",
       "  </tbody>\n",
       "</table>\n",
       "</div>"
      ],
      "text/plain": [
       "        one       two     three four   five  timestamp\n",
       "a       NaN -1.578706 -1.770520  bar  False        NaT\n",
       "c       NaN -1.090870  0.751012  bar   True        NaT\n",
       "e  1.215417  0.073725  1.436257  bar   True 2012-01-01\n",
       "f  0.623329 -0.574068  0.804822  bar   True 2012-01-01\n",
       "h       NaN  2.622780  0.536059  bar  False        NaT"
      ]
     },
     "execution_count": 40,
     "metadata": {},
     "output_type": "execute_result"
    }
   ],
   "source": [
    "df2"
   ]
  },
  {
   "cell_type": "code",
   "execution_count": 41,
   "metadata": {
    "hidden": true
   },
   "outputs": [
    {
     "data": {
      "text/html": [
       "<div>\n",
       "<style scoped>\n",
       "    .dataframe tbody tr th:only-of-type {\n",
       "        vertical-align: middle;\n",
       "    }\n",
       "\n",
       "    .dataframe tbody tr th {\n",
       "        vertical-align: top;\n",
       "    }\n",
       "\n",
       "    .dataframe thead th {\n",
       "        text-align: right;\n",
       "    }\n",
       "</style>\n",
       "<table border=\"1\" class=\"dataframe\">\n",
       "  <thead>\n",
       "    <tr style=\"text-align: right;\">\n",
       "      <th></th>\n",
       "      <th>one</th>\n",
       "      <th>two</th>\n",
       "      <th>three</th>\n",
       "      <th>four</th>\n",
       "      <th>five</th>\n",
       "      <th>timestamp</th>\n",
       "    </tr>\n",
       "  </thead>\n",
       "  <tbody>\n",
       "    <tr>\n",
       "      <th>a</th>\n",
       "      <td>NaN</td>\n",
       "      <td>-1.578706</td>\n",
       "      <td>-1.770520</td>\n",
       "      <td>bar</td>\n",
       "      <td>False</td>\n",
       "      <td>NaT</td>\n",
       "    </tr>\n",
       "    <tr>\n",
       "      <th>c</th>\n",
       "      <td>NaN</td>\n",
       "      <td>-1.090870</td>\n",
       "      <td>0.751012</td>\n",
       "      <td>bar</td>\n",
       "      <td>True</td>\n",
       "      <td>NaT</td>\n",
       "    </tr>\n",
       "    <tr>\n",
       "      <th>e</th>\n",
       "      <td>1.215417</td>\n",
       "      <td>0.073725</td>\n",
       "      <td>1.436257</td>\n",
       "      <td>bar</td>\n",
       "      <td>True</td>\n",
       "      <td>2012-01-01</td>\n",
       "    </tr>\n",
       "    <tr>\n",
       "      <th>f</th>\n",
       "      <td>0.623329</td>\n",
       "      <td>-0.574068</td>\n",
       "      <td>0.804822</td>\n",
       "      <td>bar</td>\n",
       "      <td>True</td>\n",
       "      <td>2012-01-01</td>\n",
       "    </tr>\n",
       "    <tr>\n",
       "      <th>h</th>\n",
       "      <td>0.623329</td>\n",
       "      <td>2.622780</td>\n",
       "      <td>0.536059</td>\n",
       "      <td>bar</td>\n",
       "      <td>False</td>\n",
       "      <td>2012-01-01</td>\n",
       "    </tr>\n",
       "  </tbody>\n",
       "</table>\n",
       "</div>"
      ],
      "text/plain": [
       "        one       two     three four   five  timestamp\n",
       "a       NaN -1.578706 -1.770520  bar  False        NaT\n",
       "c       NaN -1.090870  0.751012  bar   True        NaT\n",
       "e  1.215417  0.073725  1.436257  bar   True 2012-01-01\n",
       "f  0.623329 -0.574068  0.804822  bar   True 2012-01-01\n",
       "h  0.623329  2.622780  0.536059  bar  False 2012-01-01"
      ]
     },
     "execution_count": 41,
     "metadata": {},
     "output_type": "execute_result"
    }
   ],
   "source": [
    "df2.fillna(method='pad')"
   ]
  },
  {
   "cell_type": "code",
   "execution_count": 42,
   "metadata": {
    "hidden": true
   },
   "outputs": [
    {
     "data": {
      "text/html": [
       "<div>\n",
       "<style scoped>\n",
       "    .dataframe tbody tr th:only-of-type {\n",
       "        vertical-align: middle;\n",
       "    }\n",
       "\n",
       "    .dataframe tbody tr th {\n",
       "        vertical-align: top;\n",
       "    }\n",
       "\n",
       "    .dataframe thead th {\n",
       "        text-align: right;\n",
       "    }\n",
       "</style>\n",
       "<table border=\"1\" class=\"dataframe\">\n",
       "  <thead>\n",
       "    <tr style=\"text-align: right;\">\n",
       "      <th></th>\n",
       "      <th>one</th>\n",
       "      <th>two</th>\n",
       "      <th>three</th>\n",
       "      <th>four</th>\n",
       "      <th>five</th>\n",
       "      <th>timestamp</th>\n",
       "    </tr>\n",
       "  </thead>\n",
       "  <tbody>\n",
       "    <tr>\n",
       "      <th>a</th>\n",
       "      <td>NaN</td>\n",
       "      <td>-1.578706</td>\n",
       "      <td>-1.770520</td>\n",
       "      <td>bar</td>\n",
       "      <td>False</td>\n",
       "      <td>NaT</td>\n",
       "    </tr>\n",
       "    <tr>\n",
       "      <th>c</th>\n",
       "      <td>NaN</td>\n",
       "      <td>-1.090870</td>\n",
       "      <td>0.751012</td>\n",
       "      <td>bar</td>\n",
       "      <td>True</td>\n",
       "      <td>NaT</td>\n",
       "    </tr>\n",
       "    <tr>\n",
       "      <th>e</th>\n",
       "      <td>1.215417</td>\n",
       "      <td>0.073725</td>\n",
       "      <td>1.436257</td>\n",
       "      <td>bar</td>\n",
       "      <td>True</td>\n",
       "      <td>2012-01-01</td>\n",
       "    </tr>\n",
       "    <tr>\n",
       "      <th>f</th>\n",
       "      <td>0.623329</td>\n",
       "      <td>-0.574068</td>\n",
       "      <td>0.804822</td>\n",
       "      <td>bar</td>\n",
       "      <td>True</td>\n",
       "      <td>2012-01-01</td>\n",
       "    </tr>\n",
       "    <tr>\n",
       "      <th>h</th>\n",
       "      <td>0.623329</td>\n",
       "      <td>2.622780</td>\n",
       "      <td>0.536059</td>\n",
       "      <td>bar</td>\n",
       "      <td>False</td>\n",
       "      <td>2012-01-01</td>\n",
       "    </tr>\n",
       "  </tbody>\n",
       "</table>\n",
       "</div>"
      ],
      "text/plain": [
       "        one       two     three four   five  timestamp\n",
       "a       NaN -1.578706 -1.770520  bar  False        NaT\n",
       "c       NaN -1.090870  0.751012  bar   True        NaT\n",
       "e  1.215417  0.073725  1.436257  bar   True 2012-01-01\n",
       "f  0.623329 -0.574068  0.804822  bar   True 2012-01-01\n",
       "h  0.623329  2.622780  0.536059  bar  False 2012-01-01"
      ]
     },
     "execution_count": 42,
     "metadata": {},
     "output_type": "execute_result"
    }
   ],
   "source": [
    "df2.fillna(method='ffill')"
   ]
  },
  {
   "cell_type": "code",
   "execution_count": 43,
   "metadata": {
    "hidden": true
   },
   "outputs": [
    {
     "data": {
      "text/html": [
       "<div>\n",
       "<style scoped>\n",
       "    .dataframe tbody tr th:only-of-type {\n",
       "        vertical-align: middle;\n",
       "    }\n",
       "\n",
       "    .dataframe tbody tr th {\n",
       "        vertical-align: top;\n",
       "    }\n",
       "\n",
       "    .dataframe thead th {\n",
       "        text-align: right;\n",
       "    }\n",
       "</style>\n",
       "<table border=\"1\" class=\"dataframe\">\n",
       "  <thead>\n",
       "    <tr style=\"text-align: right;\">\n",
       "      <th></th>\n",
       "      <th>one</th>\n",
       "      <th>two</th>\n",
       "      <th>three</th>\n",
       "      <th>four</th>\n",
       "      <th>five</th>\n",
       "      <th>timestamp</th>\n",
       "    </tr>\n",
       "  </thead>\n",
       "  <tbody>\n",
       "    <tr>\n",
       "      <th>a</th>\n",
       "      <td>1.215417</td>\n",
       "      <td>-1.578706</td>\n",
       "      <td>-1.770520</td>\n",
       "      <td>bar</td>\n",
       "      <td>False</td>\n",
       "      <td>2012-01-01</td>\n",
       "    </tr>\n",
       "    <tr>\n",
       "      <th>c</th>\n",
       "      <td>1.215417</td>\n",
       "      <td>-1.090870</td>\n",
       "      <td>0.751012</td>\n",
       "      <td>bar</td>\n",
       "      <td>True</td>\n",
       "      <td>2012-01-01</td>\n",
       "    </tr>\n",
       "    <tr>\n",
       "      <th>e</th>\n",
       "      <td>1.215417</td>\n",
       "      <td>0.073725</td>\n",
       "      <td>1.436257</td>\n",
       "      <td>bar</td>\n",
       "      <td>True</td>\n",
       "      <td>2012-01-01</td>\n",
       "    </tr>\n",
       "    <tr>\n",
       "      <th>f</th>\n",
       "      <td>0.623329</td>\n",
       "      <td>-0.574068</td>\n",
       "      <td>0.804822</td>\n",
       "      <td>bar</td>\n",
       "      <td>True</td>\n",
       "      <td>2012-01-01</td>\n",
       "    </tr>\n",
       "    <tr>\n",
       "      <th>h</th>\n",
       "      <td>NaN</td>\n",
       "      <td>2.622780</td>\n",
       "      <td>0.536059</td>\n",
       "      <td>bar</td>\n",
       "      <td>False</td>\n",
       "      <td>NaT</td>\n",
       "    </tr>\n",
       "  </tbody>\n",
       "</table>\n",
       "</div>"
      ],
      "text/plain": [
       "        one       two     three four   five  timestamp\n",
       "a  1.215417 -1.578706 -1.770520  bar  False 2012-01-01\n",
       "c  1.215417 -1.090870  0.751012  bar   True 2012-01-01\n",
       "e  1.215417  0.073725  1.436257  bar   True 2012-01-01\n",
       "f  0.623329 -0.574068  0.804822  bar   True 2012-01-01\n",
       "h       NaN  2.622780  0.536059  bar  False        NaT"
      ]
     },
     "execution_count": 43,
     "metadata": {},
     "output_type": "execute_result"
    }
   ],
   "source": [
    "df2.fillna(method='bfill')"
   ]
  },
  {
   "cell_type": "markdown",
   "metadata": {
    "hidden": true
   },
   "source": [
    " | Method | Action  | \n",
    " | --- | --- |  \n",
    " | pad / ffill\t | Fill values forward  | \n",
    " | bfill / backfill\t | Fill values backward  | "
   ]
  },
  {
   "cell_type": "markdown",
   "metadata": {
    "heading_collapsed": true
   },
   "source": [
    "## Dropping axis labels with missing data: dropna"
   ]
  },
  {
   "cell_type": "code",
   "execution_count": 44,
   "metadata": {
    "hidden": true
   },
   "outputs": [
    {
     "data": {
      "text/html": [
       "<div>\n",
       "<style scoped>\n",
       "    .dataframe tbody tr th:only-of-type {\n",
       "        vertical-align: middle;\n",
       "    }\n",
       "\n",
       "    .dataframe tbody tr th {\n",
       "        vertical-align: top;\n",
       "    }\n",
       "\n",
       "    .dataframe thead th {\n",
       "        text-align: right;\n",
       "    }\n",
       "</style>\n",
       "<table border=\"1\" class=\"dataframe\">\n",
       "  <thead>\n",
       "    <tr style=\"text-align: right;\">\n",
       "      <th></th>\n",
       "      <th>A</th>\n",
       "      <th>B</th>\n",
       "      <th>C</th>\n",
       "    </tr>\n",
       "  </thead>\n",
       "  <tbody>\n",
       "    <tr>\n",
       "      <th>0</th>\n",
       "      <td>NaN</td>\n",
       "      <td>0.463043</td>\n",
       "      <td>0.943896</td>\n",
       "    </tr>\n",
       "    <tr>\n",
       "      <th>1</th>\n",
       "      <td>NaN</td>\n",
       "      <td>0.232358</td>\n",
       "      <td>0.429260</td>\n",
       "    </tr>\n",
       "    <tr>\n",
       "      <th>2</th>\n",
       "      <td>NaN</td>\n",
       "      <td>0.870293</td>\n",
       "      <td>0.933076</td>\n",
       "    </tr>\n",
       "    <tr>\n",
       "      <th>3</th>\n",
       "      <td>NaN</td>\n",
       "      <td>0.913878</td>\n",
       "      <td>0.874500</td>\n",
       "    </tr>\n",
       "    <tr>\n",
       "      <th>4</th>\n",
       "      <td>NaN</td>\n",
       "      <td>0.536525</td>\n",
       "      <td>0.473464</td>\n",
       "    </tr>\n",
       "  </tbody>\n",
       "</table>\n",
       "</div>"
      ],
      "text/plain": [
       "    A         B         C\n",
       "0 NaN  0.463043  0.943896\n",
       "1 NaN  0.232358  0.429260\n",
       "2 NaN  0.870293  0.933076\n",
       "3 NaN  0.913878  0.874500\n",
       "4 NaN  0.536525  0.473464"
      ]
     },
     "execution_count": 44,
     "metadata": {},
     "output_type": "execute_result"
    }
   ],
   "source": [
    "df = pd.DataFrame({\"A\" : [np.nan] * 5,\n",
    "                  \"B\" : np.random.random(5),\n",
    "                  \"C\" : np.random.random(5)})\n",
    "df"
   ]
  },
  {
   "cell_type": "code",
   "execution_count": 45,
   "metadata": {
    "hidden": true
   },
   "outputs": [
    {
     "data": {
      "text/html": [
       "<div>\n",
       "<style scoped>\n",
       "    .dataframe tbody tr th:only-of-type {\n",
       "        vertical-align: middle;\n",
       "    }\n",
       "\n",
       "    .dataframe tbody tr th {\n",
       "        vertical-align: top;\n",
       "    }\n",
       "\n",
       "    .dataframe thead th {\n",
       "        text-align: right;\n",
       "    }\n",
       "</style>\n",
       "<table border=\"1\" class=\"dataframe\">\n",
       "  <thead>\n",
       "    <tr style=\"text-align: right;\">\n",
       "      <th></th>\n",
       "      <th>A</th>\n",
       "      <th>B</th>\n",
       "      <th>C</th>\n",
       "    </tr>\n",
       "  </thead>\n",
       "  <tbody>\n",
       "  </tbody>\n",
       "</table>\n",
       "</div>"
      ],
      "text/plain": [
       "Empty DataFrame\n",
       "Columns: [A, B, C]\n",
       "Index: []"
      ]
     },
     "execution_count": 45,
     "metadata": {},
     "output_type": "execute_result"
    }
   ],
   "source": [
    "df.dropna(axis=0)    # row"
   ]
  },
  {
   "cell_type": "code",
   "execution_count": 46,
   "metadata": {
    "hidden": true
   },
   "outputs": [
    {
     "data": {
      "text/html": [
       "<div>\n",
       "<style scoped>\n",
       "    .dataframe tbody tr th:only-of-type {\n",
       "        vertical-align: middle;\n",
       "    }\n",
       "\n",
       "    .dataframe tbody tr th {\n",
       "        vertical-align: top;\n",
       "    }\n",
       "\n",
       "    .dataframe thead th {\n",
       "        text-align: right;\n",
       "    }\n",
       "</style>\n",
       "<table border=\"1\" class=\"dataframe\">\n",
       "  <thead>\n",
       "    <tr style=\"text-align: right;\">\n",
       "      <th></th>\n",
       "      <th>B</th>\n",
       "      <th>C</th>\n",
       "    </tr>\n",
       "  </thead>\n",
       "  <tbody>\n",
       "    <tr>\n",
       "      <th>0</th>\n",
       "      <td>0.463043</td>\n",
       "      <td>0.943896</td>\n",
       "    </tr>\n",
       "    <tr>\n",
       "      <th>1</th>\n",
       "      <td>0.232358</td>\n",
       "      <td>0.429260</td>\n",
       "    </tr>\n",
       "    <tr>\n",
       "      <th>2</th>\n",
       "      <td>0.870293</td>\n",
       "      <td>0.933076</td>\n",
       "    </tr>\n",
       "    <tr>\n",
       "      <th>3</th>\n",
       "      <td>0.913878</td>\n",
       "      <td>0.874500</td>\n",
       "    </tr>\n",
       "    <tr>\n",
       "      <th>4</th>\n",
       "      <td>0.536525</td>\n",
       "      <td>0.473464</td>\n",
       "    </tr>\n",
       "  </tbody>\n",
       "</table>\n",
       "</div>"
      ],
      "text/plain": [
       "          B         C\n",
       "0  0.463043  0.943896\n",
       "1  0.232358  0.429260\n",
       "2  0.870293  0.933076\n",
       "3  0.913878  0.874500\n",
       "4  0.536525  0.473464"
      ]
     },
     "execution_count": 46,
     "metadata": {},
     "output_type": "execute_result"
    }
   ],
   "source": [
    "df.dropna(axis=1)    # column"
   ]
  },
  {
   "cell_type": "code",
   "execution_count": 47,
   "metadata": {
    "hidden": true
   },
   "outputs": [
    {
     "data": {
      "text/plain": [
       "0     NaN\n",
       "1     2.0\n",
       "2     NaN\n",
       "3     6.0\n",
       "4     NaN\n",
       "5    10.0\n",
       "6     NaN\n",
       "7    14.0\n",
       "8     NaN\n",
       "9    18.0\n",
       "dtype: float64"
      ]
     },
     "execution_count": 47,
     "metadata": {},
     "output_type": "execute_result"
    }
   ],
   "source": [
    "df2 = pd.Series(range(0,20,2))\n",
    "df2[range(0,10,2)] = np.nan\n",
    "df2"
   ]
  },
  {
   "cell_type": "code",
   "execution_count": 48,
   "metadata": {
    "hidden": true
   },
   "outputs": [
    {
     "data": {
      "text/plain": [
       "0     NaN\n",
       "1     2.0\n",
       "2     4.0\n",
       "3     6.0\n",
       "4     8.0\n",
       "5    10.0\n",
       "6    12.0\n",
       "7    14.0\n",
       "8    16.0\n",
       "9    18.0\n",
       "dtype: float64"
      ]
     },
     "execution_count": 48,
     "metadata": {},
     "output_type": "execute_result"
    }
   ],
   "source": [
    "df2.interpolate()"
   ]
  },
  {
   "cell_type": "code",
   "execution_count": null,
   "metadata": {
    "hidden": true
   },
   "outputs": [],
   "source": []
  }
 ],
 "metadata": {
  "anaconda-cloud": {},
  "kernelspec": {
   "display_name": "Python 3",
   "language": "python",
   "name": "python3"
  },
  "language_info": {
   "codemirror_mode": {
    "name": "ipython",
    "version": 3
   },
   "file_extension": ".py",
   "mimetype": "text/x-python",
   "name": "python",
   "nbconvert_exporter": "python",
   "pygments_lexer": "ipython3",
   "version": "3.5.5"
  }
 },
 "nbformat": 4,
 "nbformat_minor": 1
}
